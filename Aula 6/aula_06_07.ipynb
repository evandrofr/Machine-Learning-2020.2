{
 "cells": [
  {
   "cell_type": "markdown",
   "metadata": {},
   "source": [
    "Este material é um mix de material próprio, e material adaptado do livro texto da disciplina e do repositório do autor do livro (https://github.com/ageron/handson-ml)\n",
    "\n",
    "Material de referência: livro do Géron, capítulo 4"
   ]
  },
  {
   "cell_type": "markdown",
   "metadata": {},
   "source": [
    "# Modelos lineares"
   ]
  },
  {
   "cell_type": "markdown",
   "metadata": {},
   "source": [
    "Até o momento vimos o processo de construção de uma solução de machine learning:\n",
    "\n",
    "- Aquisição e preparo dos dados\n",
    "- Definição da métrica de desempenho\n",
    "- Separação em conjuntos de treinamento e teste\n",
    "- Investigação dos dados\n",
    "- Escolha de modelo:\n",
    "    - Avaliação de vários modelos usando validação cruzada\n",
    "    - Comparação de métricas de desempenho\n",
    "    - Ajuste de hiperparâmetros\n",
    "- Treinamento final\n",
    "- Teste final\n",
    "- Etapas de producão\n",
    "    - Relatório final\n",
    "    - Operacionalização do modelo em produção\n",
    "\n",
    "Porém neste processo todo nossos modelos eram \"caixas pretas\", não conhecemos nada sobre como os modelos funcionam!\n",
    "\n",
    "Nesta aula vamos começar a investigar os modelos lineares: o que são, e como treina-los. Vamos aprender sobre regressão linear, algoritmos de treinamento, regressão polinomial, overfitting versus underfitting. Na aula seguinte vamos discutir o *tradeoff bias/variance*, estratégias de regularização, regressão logística e softmax."
   ]
  },
  {
   "cell_type": "markdown",
   "metadata": {},
   "source": [
    "**Atividade:**\n",
    "\n",
    "Sem olhar no material de suporte, liste no papel os passos fundamentais de um projeto de machine learning. Vocë tem que conhecer isso de memória! *(NÃO PRECISA ENTREGAR)*"
   ]
  },
  {
   "cell_type": "markdown",
   "metadata": {},
   "source": [
    "Vamos inicializar algumas bibliotecas padrão de nosso trabalho:"
   ]
  },
  {
   "cell_type": "code",
   "execution_count": 2,
   "metadata": {},
   "outputs": [],
   "source": [
    "%matplotlib inline\n",
    "import matplotlib.pyplot as plt\n",
    "import numpy as np\n",
    "\n",
    "RAND_SEED = 42\n",
    "np.random.seed(RAND_SEED)"
   ]
  },
  {
   "cell_type": "markdown",
   "metadata": {},
   "source": [
    "# Revisão"
   ]
  },
  {
   "cell_type": "markdown",
   "metadata": {},
   "source": [
    "## Modelo\n",
    "\n",
    "Em todo problema de machine learning uma amostra de entrada é um vetor \n",
    "\n",
    "$$\\mathbf{x} = (x_1, x_2, \\cdots, x_n)$$\n",
    "\n",
    "de $n$ valores (características ou *features*). (Usaremos fontes em negrito para indicar vetores e matrizes.) \n",
    "\n",
    "Em notação matricial, os vetores são matrizes-coluna:\n",
    "\n",
    "$$\n",
    "\\mathbf{x} = \\left[\n",
    "\\begin{matrix}\n",
    "x_1 \\\\\n",
    "x_2 \\\\\n",
    "\\vdots \\\\\n",
    "x_n\n",
    "\\end{matrix}\n",
    "\\right]\n",
    "$$\n",
    "\n",
    "Vamos trabalhar com as duas notações (vetores e matrizes-coluna) de modo intercambiável, e que ficará evidente no contexto de uso.\n",
    "\n",
    "Uma amostra de saída é um valor que se supõe depender da entrada. Se o valor de saída é contínuo temos um problema de **regressão**, e se o valor é categórico (trata-se de uma classe ou categoria) temos um problema de **classificação**.\n",
    "\n",
    "Um modelo de machine learning é uma função que permite estimar o valor de saída para uma dada amostra de entrada. Esta função depende de **parâmetros** $\\mathbf{\\theta}$, que representam os \"ajustes\" desta função. Ou seja:\n",
    "\n",
    "$$y_{\\text{estimado}} = \\hat{y} = h_{\\mathbf{\\theta}}\\left(\\mathbf{x}\\right)$$"
   ]
  },
  {
   "cell_type": "markdown",
   "metadata": {},
   "source": [
    "## Erro\n",
    "\n",
    "O objetivo principal em um projeto de machine learning é encontrar um modelo que produza boas estimativas, ou seja, estimativas que se aproximem dos valores reais. *Treinamento* é ajustar os parâmetros $\\mathbf{\\theta}$ para conseguir **em média** melhores estimativas. \n",
    "\n",
    "Uma estimativa é boa se o **erro** entre a estimativa e o valor real é baixo. A definição do erro depende do problema em questão. Se for uma regressão, então uma medida razoável de erro para uma dada amostra é a diferença entre o valor real e o valor estimado:\n",
    "\n",
    "$$\\text{erro}\\left(\\mathbf{x}, y_{real}, \\mathbf{\\theta} \\right) = y_{\\text{estimado}} - y_{\\text{real}} = h_{\\mathbf{\\theta}}\\left(\\mathbf{x}\\right) - y_{\\text{real}}$$\n",
    "\n",
    "Se desejamos uma métrica positiva de erro, podemos adotar:\n",
    "\n",
    "- o valor absoluto do erro: $\\left| \\,\\text{erro}\\left(\\mathbf{x}, y_{real}, \\mathbf{\\theta} \\right) \\,\\right|$, ou \n",
    "- o valor quadrático do erro: $\\text{erro}\\left(\\mathbf{x}, y_{real}, \\mathbf{\\theta} \\right)^2$\n",
    "\n",
    "Se for um problema de classificação, então o erro pode ser simplesmente o resultado da comparação entre a classe real e a classe estimada."
   ]
  },
  {
   "cell_type": "markdown",
   "metadata": {},
   "source": [
    "## Erro sobre um conjunto de amostras\n",
    "\n",
    "Será que um modelo é bom? Uma forma de responder esta questão é avaliar o erro médio do classificador sobre um conjunto de exemplos. \n",
    "\n",
    "Para ilustrar essa ideia, vamos considerar um problema de regressão. Seja $\\left(\\mathbf{x}^{(1)}, \\mathbf{x}^{(2)}, \\cdots, \\mathbf{x}^{(m)}\\right)$ uma lista de $m$ amostras, e $\\left(y_{\\text{real}}^{(1)}, y_{\\text{real}}^{(2)}, \\cdots, y_{\\text{real}}^{(m)}\\right)$ os valores dependentes correspondentes. \n",
    "\n",
    "Vamos representar essa informação na forma de uma matriz $\\mathbf{X}$ para as amostras e um vetor $\\mathbf{y}_{\\text{real}}$ para os valores dependentes, ou seja:\n",
    "\n",
    "$$\n",
    "\\mathbf{X} = \\left[\n",
    "\\begin{matrix} \n",
    "\\left(\\mathbf{x}^{(1)}\\right)^{T} \\\\\n",
    "\\left(\\mathbf{x}^{(2)}\\right)^{T} \\\\\n",
    "\\vdots \\\\\n",
    "\\left(\\mathbf{x}^{(m)}\\right)^{T} \\\\\n",
    "\\end{matrix}\n",
    "\\right]\n",
    "\\  \\text{,} \\quad\n",
    "\\mathbf{y}_{\\text{real}} = \\left[\n",
    "\\begin{matrix}\n",
    "y_{\\text{real}}^{(1)} \\\\\n",
    "y_{\\text{real}}^{(1)} \\\\\n",
    "\\vdots \\\\\n",
    "y_{\\text{real}}^{(1)} \\\\\n",
    "\\end{matrix}\n",
    "\\right]\n",
    "$$\n",
    "\n",
    "O erro quadrático médio é (surpresa!) a média do erro quadrático sobre o conjunto de amostras:\n",
    "\n",
    "$$\n",
    "\\varepsilon^2\\left(\\mathbf{X}, \\mathbf{y}_{\\text{real}}, \\mathbf{\\theta}\\right) = \n",
    "\\frac{1}{m} \\sum_{i=1}^{m} \\left(h_{\\mathbf{\\theta}}\\left(\\mathbf{x}^{(i)}\\right) - y_{\\text{real}}^{(i)}\\right)^2\n",
    "$$\n",
    "\n",
    "É comum usarmos a raiz quadrada de $\\varepsilon^2\\left(\\mathbf{X}, \\mathbf{y}_{\\text{real}}, \\mathbf{\\theta}\\right)$, para que o erro esteja descrito nas mesmas unidades de medida da variável dependente. Obtemos então a medida de erro médio conhecida como RMSE (*Root Mean Squared Error*), muito usada em problemas de regressão.\n",
    "\n",
    "$$\n",
    "\\text{RMSE}\\left(\\mathbf{X}, \\mathbf{y}_{\\text{real}}, \\mathbf{\\theta}\\right) \n",
    "= \n",
    "\\sqrt{\\varepsilon^2\\left(\\mathbf{X}, \\mathbf{y}_{\\text{real}}, \\mathbf{\\theta}\\right)}\n",
    "=\n",
    "\\sqrt{\n",
    "    \\frac{1}{m} \n",
    "    \\sum_{i=1}^{m} \n",
    "        \\left(h_{\\mathbf{\\theta}}\\left(\\mathbf{x}^{(i)}\\right) - y_{\\text{real}}^{(i)}\\right)^2\n",
    "}\n",
    "$$"
   ]
  },
  {
   "cell_type": "markdown",
   "metadata": {},
   "source": [
    "## Treinamento\n",
    "\n",
    "Treinar um modelo é achar os parâmetros do modelo que minimizam o erro médio deste em um conjunto de amostras de treinamento. Por exemplo, para o problema de regressão e usando RMSE como métrica de desempenho, temos matematicamente:\n",
    "\n",
    "$$\n",
    "\\mathbf{\\theta}_{\\text{opt}} = \\text{arg min}_{\\mathbf{\\theta}}\\left\\{\\text{RMSE}\\left(\\mathbf{X}_{\\text{train}}, \\mathbf{y}_{\\text{train}}, \\mathbf{\\theta}\\right)\\right\\}\n",
    "$$\n",
    "\n",
    "Para procurar $\\mathbf{\\theta}_{\\text{opt}}$ temos que aplicar um **algoritmo de treinamento** ao nosso modelo e nossas amostras de treinamento. Para cada modelo e métrica de desempenho existe um algoritmo de treinamento. Alguns algoritmos de treinamento são versáteis, e são aplicáveis a vários tipos de modelo - por exemplo, o *método do máximo declive* (**gradient descent**).\n",
    "\n",
    "$$\\mathbf{\\theta}_{\\text{opt}} = \\text{modelo.fit}(\\mathbf{X}_{\\text{train}}, \\mathbf{y}_{\\text{train}})$$\n",
    "\n",
    "Existem parâmetros que não são ajustáveis neste processo, e seus valores devem ser passados para o algoritmo de treinamento. Por exemplo: número máximo de iterações do método de treinamento, valor do parâmetro de regularização, etc. Estes parâmetros extras sao chamados de **hiperparâmetros**. Portanto, é mais correto escrever a expressão acima como:\n",
    "\n",
    "$$\\text{modelo} = \\text{Modelo}(\\mathbf{\\theta}_{\\text{hiper}})$$\n",
    "\n",
    "$$\\mathbf{\\theta}_{\\text{opt}} = \\text{modelo.fit}(\\mathbf{X}_{\\text{train}}, \\mathbf{y}_{\\text{train}})$$"
   ]
  },
  {
   "cell_type": "markdown",
   "metadata": {},
   "source": [
    "## Usando o modelo treinado para fazer predições\n",
    "\n",
    "Finalmente, quando temos o modelo treinado (ou seja, encontramos os parâmetros ótimos $\\mathbf{\\theta}$), podemos usá-lo para fazer predições: seja $\\mathbf{x}_{\\text{novo}}$ uma nova amostra, então a predição $\\hat{y}$ do modelo é calculada como:\n",
    "\n",
    "$$\\hat{y} = h_{\\mathbf{\\theta}_{\\text{opt}}; \\mathbf{\\theta}_{\\text{hiper}}}\\left(\\mathbf{x}_{\\text{novo}}\\right)$$\n",
    "\n",
    "Ou, em pseudo-código:\n",
    "\n",
    "$$\\text{modelo} = \\text{Modelo}(\\mathbf{\\theta}_{\\text{hiper}})$$\n",
    "\n",
    "$$\\mathbf{\\theta}_{\\text{opt}} = \\text{modelo.fit}(\\mathbf{X}_{\\text{train}}, \\mathbf{y}_{\\text{train}})$$\n",
    "\n",
    "$$\\hat{y} = \\text{modelo.predict}(\\mathbf{x}_{\\text{novo}})$$"
   ]
  },
  {
   "cell_type": "markdown",
   "metadata": {},
   "source": [
    "**Atividade:** \n",
    "\n",
    "Isto que foi apresentado é a essência do machine learning para classificação e regressão. Tente explicar, com a formulação matemática adequada, os seguintes conceitos:\n",
    "\n",
    "- Amostra\n",
    "\n",
    "- Modelo\n",
    "\n",
    "- RMSE\n",
    "\n",
    "- Treinamento\n",
    "\n",
    "- Predição\n",
    "\n",
    "O objetivo é conseguir explicar e escrever as fórmulas correspondentes SEM PRECISAR OLHAR NO MATERIAL DE SUPORTE. Estude o material de suporte o quanto quiser, feche o notebook, e responda a atividade no papel. *(NÃO PRECISA ENTREGAR)*"
   ]
  },
  {
   "cell_type": "markdown",
   "metadata": {},
   "source": [
    "# Regressão linear"
   ]
  },
  {
   "cell_type": "markdown",
   "metadata": {},
   "source": [
    "## Modelo\n",
    "\n",
    "Em um modelo de regressão linear, desejamos obter uma predição de valor $\\hat{y}$ como uma combinação linear dos valores das *features* mais um termo de *offset*.\n",
    "\n",
    "$$\\mathbf{\\theta} = (\\theta_0, \\theta_1, \\cdots, \\theta_n)$$\n",
    "\n",
    "$$\\hat{y} = \\theta_0 + \\theta_1 x_1 + \\theta_2 x_2 + \\cdots + \\theta_n x_n$$\n",
    "\n",
    "Em notação matricial:\n",
    "\n",
    "$$\\hat{y} = \\mathbf{x}^{T} \\mathbf{\\theta}$$\n",
    "\n",
    "onde o vetor $\\mathbf{x}$ de características da amostra é formado pelas características originais e por uma \"característica extra\" que é o valor $1$. Ou seja:\n",
    "\n",
    "$$\\mathbf{x} = \\left[\n",
    "\\begin{matrix}\n",
    "1 \\\\\n",
    "x_1 \\\\\n",
    "x_2 \\\\\n",
    "\\vdots \\\\\n",
    "x_n\n",
    "\\end{matrix}\n",
    "\\right]$$\n",
    "\n",
    "Para um dado conjunto de treinamento, podemos representar as várias quantidades deste problema em uma notação matricial:\n",
    "\n",
    "$$\n",
    "\\mathbf{X}_{\\text{train}} = \\left[\n",
    "\\begin{matrix}\n",
    "\\left(\\mathbf{x}_{\\text{train}}^{(1)}\\right)^{T} \\\\\n",
    "\\left(\\mathbf{x}_{\\text{train}}^{(2)}\\right)^{T} \\\\\n",
    "\\vdots \\\\\n",
    "\\left(\\mathbf{x}_{\\text{train}}^{(m)}\\right)^{T}\n",
    "\\end{matrix}\n",
    "\\right]\n",
    "\\  \\text{,} \\quad\n",
    "\\mathbf{y}_{\\text{train}} = \\left[\n",
    "\\begin{matrix}\n",
    "y_{\\text{train}}^{(1)} \\\\\n",
    "y_{\\text{train}}^{(2)} \\\\\n",
    "\\vdots \\\\\n",
    "y_{\\text{train}}^{(m)} \\\\\n",
    "\\end{matrix}\n",
    "\\right]\n",
    "\\  \\text{,} \\quad\n",
    "\\mathbf{\\theta} = \\left[\n",
    "\\begin{matrix}\n",
    "\\theta_0 \\\\\n",
    "\\theta_1 \\\\\n",
    "\\vdots \\\\\n",
    "\\theta_n\n",
    "\\end{matrix}\n",
    "\\right]\n",
    "\\  \\text{,} \\quad\n",
    "\\hat{\\mathbf{y}} = \\left[\n",
    "\\begin{matrix}\n",
    "\\hat{y}^{(1)} \\\\\n",
    "\\hat{y}^{(2)} \\\\\n",
    "\\vdots \\\\\n",
    "\\hat{y}^{(m)}\n",
    "\\end{matrix}\n",
    "\\right] = \\mathbf{X}_{\\text{train}} \\mathbf{\\theta}\n",
    "$$"
   ]
  },
  {
   "cell_type": "markdown",
   "metadata": {},
   "source": [
    "## Erro quadrático\n",
    "\n",
    "Para um conjunto de amostras de treinamento, o erro quadrático médio é dado por:\n",
    "\n",
    "$$\n",
    "\\varepsilon^2\\left(\\mathbf{X}_{\\text{train}}, \\mathbf{y}_{\\text{train}}, \\mathbf{\\theta}\\right) = \n",
    "\\frac{1}{m} \n",
    "  \\sum_{i=1}^{m} \\left(\n",
    "    h_{\\mathbf{\\theta}}\\left(\\mathbf{x}_{\\text{train}}^{(i)}\\right) - y_{\\text{train}}^{(i)}\n",
    "  \\right)^2 =\n",
    "\\frac{1}{m} \n",
    "  \\sum_{i=1}^{m} \\left(\n",
    "    (\\mathbf{x}_{\\text{train}}^{(i)})^{T} \\mathbf{\\theta} - y_{\\text{train}}^{(i)}\n",
    "  \\right)^2 \n",
    "$$\n",
    "\n",
    "Em notação matricial,\n",
    "\n",
    "$$\n",
    "\\varepsilon^2\\left(\\mathbf{X}_{\\text{train}}, \\mathbf{y}_{\\text{train}}, \\mathbf{\\theta}\\right) = \\\\\n",
    "\\frac{1}{m} (\\mathbf{X}_{\\text{train}} \\mathbf{\\theta} - \\mathbf{y}_{\\text{train}})^T \n",
    "            (\\mathbf{X}_{\\text{train}} \\mathbf{\\theta} - \\mathbf{y}_{\\text{train}}) = \\\\\n",
    "\\frac{1}{m} (\\mathbf{\\theta}^{T} \\mathbf{X}_{\\text{train}}^{T} - \\mathbf{y}_{\\text{train}}^{T})\n",
    "            (\\mathbf{X}_{\\text{train}} \\mathbf{\\theta} - \\mathbf{y}_{\\text{train}}) = \\\\\n",
    "\\frac{1}{m} (\n",
    "    \\mathbf{\\theta}^{T} \\mathbf{X}_{\\text{train}}^{T} \\mathbf{X}_{\\text{train}} \\mathbf{\\theta} \n",
    "  - \\mathbf{\\theta}^{T} \\mathbf{X}_{\\text{train}}^{T} \\mathbf{y}_{\\text{train}}\n",
    "  - \\mathbf{y}_{\\text{train}}^{T} \\mathbf{X}_{\\text{train}} \\mathbf{\\theta}\n",
    "  + \\mathbf{y}_{\\text{train}}^{T} \\mathbf{y}_{\\text{train}}) = \\\\\n",
    "\\frac{1}{m} (\n",
    "    \\mathbf{\\theta}^{T} \\mathbf{X}_{\\text{train}}^{T} \\mathbf{X}_{\\text{train}} \\mathbf{\\theta} \n",
    "  - 2 \\mathbf{\\theta}^{T} \\mathbf{X}_{\\text{train}}^{T} \\mathbf{y}_{\\text{train}}\n",
    "  + \\mathbf{y}_{\\text{train}}^{T} \\mathbf{y}_{\\text{train}})\n",
    "$$\n",
    "\n",
    "Note que se $\\mathbf{X}_{\\text{train}}$ e $\\mathbf{y}_{\\text{train}}$ são quantidades fixas, a única variável aqui é $\\mathbf{\\theta}$."
   ]
  },
  {
   "cell_type": "markdown",
   "metadata": {},
   "source": [
    "## Gradiente do erro\n",
    "\n",
    "Cálculo matricial: https://en.wikipedia.org/wiki/Matrix_calculus\n",
    "\n",
    "Extraindo as derivadas parciais da função $\\varepsilon^2\\left(\\mathbf{X}_{\\text{train}}, \\mathbf{y}_{\\text{train}}, \\mathbf{\\theta}\\right)$ em relação aos termos $\\theta_i$ temos:\n",
    "\n",
    "$$\n",
    "\\nabla_{\\mathbf{\\theta}} \\varepsilon^2\\left(\\mathbf{X}_{\\text{train}}, \\mathbf{y}_{\\text{train}}, \\mathbf{\\theta}\\right) = \n",
    "\\frac{1}{m} (\n",
    "    2 \\mathbf{X}_{\\text{train}}^{T} \\mathbf{X}_{\\text{train}} \\mathbf{\\theta} \n",
    "  - 2 \\mathbf{X}_{\\text{train}}^{T} \\mathbf{y}_{\\text{train}})\n",
    "$$"
   ]
  },
  {
   "cell_type": "markdown",
   "metadata": {},
   "source": [
    "## A Equação Normal\n",
    "\n",
    "Nosso objetivo é achar o vetor de parâmetros $\\mathbf{\\theta}$ que minimiza $\\varepsilon^2\\left(\\mathbf{X}_{\\text{train}}, \\mathbf{y}_{\\text{train}}, \\mathbf{\\theta}\\right)$. Para tanto, vamos resolver a equação \n",
    "\n",
    "$$\\nabla_{\\mathbf{\\theta}} \\varepsilon^2\\left(\\mathbf{X}_{\\text{train}}, \\mathbf{y}_{\\text{train}}, \\mathbf{\\theta}\\right) = \\mathbf{0}$$\n",
    "\n",
    "onde $\\mathbf{0}$ é uma matriz-coluna de $m$ zeros.\n",
    "\n",
    "$$\n",
    "\\nabla_{\\mathbf{\\theta}} \\varepsilon^2\\left(\\mathbf{X}_{\\text{train}}, \\mathbf{y}_{\\text{train}}, \\mathbf{\\theta}\\right) = \n",
    "\\mathbf{0} \\\\\n",
    "\\Leftrightarrow \n",
    "\\frac{1}{m} (\n",
    "    2 \\mathbf{X}_{\\text{train}}^{T} \\mathbf{X}_{\\text{train}} \\mathbf{\\theta} \n",
    "  - 2 \\mathbf{X}_{\\text{train}}^{T} \\mathbf{y}_{\\text{train}}) = \\mathbf{0} \\\\\n",
    "\\Leftrightarrow\n",
    "  \\mathbf{X}_{\\text{train}}^{T} \\mathbf{X}_{\\text{train}} \\mathbf{\\theta} = \n",
    "  \\mathbf{X}_{\\text{train}}^{T} \\mathbf{y}_{\\text{train}} \\\\\n",
    "\\Leftrightarrow\n",
    "  \\mathbf{\\theta} = (\\mathbf{X}_{\\text{train}}^{T} \\mathbf{X}_{\\text{train}})^{-1}\n",
    "  \\mathbf{X}_{\\text{train}}^{T} \\mathbf{y}_{\\text{train}}  \n",
    "$$\n",
    "\n",
    "Esta última linha é conhecida como **equação normal** do problema de regressão linear. Será que corresponde a um ponto de mínimo? Calculando a segunda derivada do erro quadrático temos:\n",
    "\n",
    "$$\n",
    "\\nabla^{2}_{\\mathbf{\\theta}} \\varepsilon^2\\left(\\mathbf{X}_{\\text{train}}, \\mathbf{y}_{\\text{train}}, \\mathbf{\\theta}\\right) = \\frac{2}{m} \\mathbf{X}_{\\text{train}}^{T} \\mathbf{X}_{\\text{train}}\n",
    "$$\n",
    "\n",
    "Como a matriz resultante é positiva-definida (https://en.wikipedia.org/wiki/Positive-definite_matrix), temos a segurança de que a resposta da equação normal é realmente um ponto de mínimo!"
   ]
  },
  {
   "cell_type": "markdown",
   "metadata": {},
   "source": [
    "## Usando a equação normal para treinar uma regressão linear\n",
    "\n",
    "Chegamos finalmente ao nosso primeiro algoritmo de treinamento do curso de machine learning! Vamos treinar um modelo de regressão linear usando a equação normal.\n",
    "\n",
    "A vantagem de se usar a equação normal é que a solução final é obtida diretamente por uma fórmula. A desvantagem é que o cálculo desta fórmula não escala bem com o número de *features* do problema, porque a matriz quadrada $\\mathbf{X}_{\\text{train}}^{T} \\mathbf{X}_{\\text{train}}$ deve ser invertida e esta tem tamanho $n \\times n$. Se o número de *features* for muito alto (e.g. pixels em uma imagem) o custo desta operação é alto."
   ]
  },
  {
   "cell_type": "markdown",
   "metadata": {},
   "source": [
    "**Atividade:** Qual a complexidade computacional de se inverter uma matriz?"
   ]
  },
  {
   "cell_type": "markdown",
   "metadata": {},
   "source": [
    "**R:** $O(n^3)$ pelo algoritmo de Gauss-Jordan."
   ]
  },
  {
   "cell_type": "markdown",
   "metadata": {},
   "source": [
    "**Atividade:** Qual a complexidade computacional do treinamento do regressor linear via equação normal, em termos de:\n",
    "\n",
    "- $n$: número de *features*, e\n",
    "- $m$: número de amostras de treinamento?"
   ]
  },
  {
   "cell_type": "markdown",
   "metadata": {},
   "source": [
    "**R:** \n",
    "\n",
    "$\\mathbf{X}_{train}^T \\mathbf{X}_{train} \\rightarrow O(n^2 m)$\n",
    "\n",
    "$\\left(\\mathbf{X}_{train}^T \\mathbf{X}_{train}\\right)^{-1} \\rightarrow O(n^3)$\n",
    "\n",
    "$\\mathbf{X}_{\\text{train}}^{T} \\mathbf{y}_{\\text{train}} \\rightarrow O(m n)$\n",
    "\n",
    "$(\\mathbf{X}_{\\text{train}}^{T} \\mathbf{X}_{\\text{train}})^{-1} \\mathbf{X}_{\\text{train}}^{T} \\mathbf{y}_{\\text{train}} \\rightarrow O(n^2)$\n",
    "  \n",
    "Conclusão: $O(m n^2 + n^3)$"
   ]
  },
  {
   "cell_type": "markdown",
   "metadata": {},
   "source": [
    "**Atividade:** Em função dos resultados acima, você recomendaria o uso da equação normal em um problema:\n",
    "\n",
    "1. Com poucas amostras de treinamento e muitas *features*?\n",
    "\n",
    "2. Com muitas amostras de treinamento e poucas *features*?"
   ]
  },
  {
   "cell_type": "markdown",
   "metadata": {},
   "source": [
    "**R:** \n",
    "\n",
    "1. Não\n",
    "\n",
    "2. Sim\n"
   ]
  },
  {
   "cell_type": "markdown",
   "metadata": {},
   "source": [
    "Vamos gerar alguns pontos de dados para testar nossa regressão linear. Nossa função linear real será $f(x) = 3 x + 4$ e á esta adicionaremos ruído gaussiano de média zero e desvio padrão unitário:"
   ]
  },
  {
   "cell_type": "code",
   "execution_count": 2,
   "metadata": {},
   "outputs": [],
   "source": [
    "m = 1000\n",
    "\n",
    "X = 2 * np.random.rand(m, 1)  # Gera m pontos aleatórios entre 0 e 2.\n",
    "ruido = np.random.randn(m, 1)  # Gera um ruido gaussiano de desvio padrão 1.0\n",
    "\n",
    "y = 4 + 3 * X + ruido  # Nosso sinal detectado."
   ]
  },
  {
   "cell_type": "markdown",
   "metadata": {},
   "source": [
    "**Pergunta:** Quais são os parâmetros ótimos esperados ao se treinar um modelo de regressão linear sobre dados gerados por esta código?"
   ]
  },
  {
   "cell_type": "markdown",
   "metadata": {},
   "source": [
    "**R:**\n",
    "\n",
    "$\\theta_0 = 4$ e $\\theta_1 = 3$"
   ]
  },
  {
   "cell_type": "code",
   "execution_count": 3,
   "metadata": {},
   "outputs": [
    {
     "data": {
      "image/png": "[encoded data removed]",
      "text/plain": [
       "<Figure size 576x432 with 1 Axes>"
      ]
     },
     "metadata": {
      "needs_background": "light"
     },
     "output_type": "display_data"
    }
   ],
   "source": [
    "X_aux = np.array([[0.0], [2.0]])\n",
    "y_aux = 4 + 3*X_aux\n",
    "\n",
    "plt.figure(figsize=(8,6))\n",
    "plt.plot(X, y, \"b.\")\n",
    "plt.plot(X_aux, y_aux, \"r--\")\n",
    "plt.xlabel(\"$x_1$\", fontsize=18)\n",
    "plt.ylabel(\"$y$\", rotation=0, fontsize=18)\n",
    "plt.axis([0, 2, 0, 15])\n",
    "plt.show()"
   ]
  },
  {
   "cell_type": "markdown",
   "metadata": {},
   "source": [
    "Para usar a equação normal temos que aumentar a matriz de amostras de treinamento com uma coluna extra de valores $1$:"
   ]
  },
  {
   "cell_type": "code",
   "execution_count": 4,
   "metadata": {},
   "outputs": [
    {
     "name": "stdout",
     "output_type": "stream",
     "text": [
      "Tamanho original da matriz de amostras: (1000, 1)\n",
      "Algumas das amostras originais:\n",
      "[[0.74908024]\n",
      " [1.90142861]\n",
      " [1.46398788]\n",
      " [1.19731697]\n",
      " [0.31203728]]\n",
      "Tamanho da matriz de amostras aumentada: (1000, 2)\n",
      "Algumas das amostras da matriz aumentada:\n",
      "[[1.         0.74908024]\n",
      " [1.         1.90142861]\n",
      " [1.         1.46398788]\n",
      " [1.         1.19731697]\n",
      " [1.         0.31203728]]\n"
     ]
    }
   ],
   "source": [
    "print(f'Tamanho original da matriz de amostras: {X.shape}')\n",
    "print(f'Algumas das amostras originais:\\n{X[:5]}')\n",
    "\n",
    "# Adicionando uma coluna de 1s.\n",
    "X_b = np.c_[np.ones((m, 1)), X]\n",
    "\n",
    "print(f'Tamanho da matriz de amostras aumentada: {X_b.shape}')\n",
    "print(f'Algumas das amostras da matriz aumentada:\\n{X_b[:5]}')"
   ]
  },
  {
   "cell_type": "markdown",
   "metadata": {},
   "source": [
    "Agora vamos usar a equação normal para calcular os parâmetros ótimos:"
   ]
  },
  {
   "cell_type": "code",
   "execution_count": 5,
   "metadata": {},
   "outputs": [
    {
     "data": {
      "text/plain": [
       "array([[4.17478026],\n",
       "       [2.92260742]])"
      ]
     },
     "execution_count": 5,
     "metadata": {},
     "output_type": "execute_result"
    }
   ],
   "source": [
    "theta_best = np.linalg.inv(X_b.T.dot(X_b)).dot(X_b.T).dot(y)\n",
    "theta_best"
   ]
  },
  {
   "cell_type": "markdown",
   "metadata": {},
   "source": [
    "Chegamos perto do resultado ideal!\n",
    "\n",
    "**Atividade:** Mude o número de pontos de treinamento e veja se os parâmetros ótimos se aproximam dos parâmetros ideais."
   ]
  },
  {
   "cell_type": "markdown",
   "metadata": {},
   "source": [
    "Vamos ver como o modelo se comporta para fazer predições:"
   ]
  },
  {
   "cell_type": "code",
   "execution_count": 6,
   "metadata": {},
   "outputs": [
    {
     "data": {
      "image/png": "[encoded data removed]",
      "text/plain": [
       "<Figure size 576x432 with 1 Axes>"
      ]
     },
     "metadata": {
      "needs_background": "light"
     },
     "output_type": "display_data"
    }
   ],
   "source": [
    "X_test = np.linspace(0.0, 2.0, num=100).T\n",
    "X_test_b = np.c_[np.ones((len(X_test), 1)), X_test]\n",
    "y_test = X_test_b.dot(theta_best)\n",
    "\n",
    "plt.figure(figsize=(8,6))\n",
    "plt.plot(X, y, \"b.\", label='amostras')\n",
    "plt.plot(X_aux, y_aux, \"r\", label='ideal')\n",
    "plt.plot(X_test, y_test, \"g-\", label='predições')\n",
    "plt.xlabel(\"$x_1$\", fontsize=18)\n",
    "plt.ylabel(\"$y$\", rotation=0, fontsize=18)\n",
    "plt.legend(loc=\"upper left\", fontsize=14)\n",
    "plt.axis([0, 2, 0, 15])\n",
    "plt.show()"
   ]
  },
  {
   "cell_type": "markdown",
   "metadata": {},
   "source": [
    "Vamos comparar nosso preditor com o regressor linear do scikit-learn:"
   ]
  },
  {
   "cell_type": "code",
   "execution_count": 7,
   "metadata": {},
   "outputs": [
    {
     "data": {
      "text/plain": [
       "(array([4.17478026]), array([[2.92260742]]))"
      ]
     },
     "execution_count": 7,
     "metadata": {},
     "output_type": "execute_result"
    }
   ],
   "source": [
    "from sklearn.linear_model import LinearRegression\n",
    "lin_reg = LinearRegression()\n",
    "lin_reg.fit(X, y)\n",
    "lin_reg.intercept_, lin_reg.coef_"
   ]
  },
  {
   "cell_type": "markdown",
   "metadata": {},
   "source": [
    "Resultados identicos!"
   ]
  },
  {
   "cell_type": "markdown",
   "metadata": {},
   "source": [
    "**Atividade:** Escreva seu próprio regressor linear no framework do scikit-learn. Teste o regressor."
   ]
  },
  {
   "cell_type": "code",
   "execution_count": 8,
   "metadata": {},
   "outputs": [
    {
     "name": "stdout",
     "output_type": "stream",
     "text": [
      "[[4.17478026]\n",
      " [2.92260742]]\n"
     ]
    },
    {
     "data": {
      "text/plain": [
       "array([[ 4.17478026],\n",
       "       [ 4.23382283],\n",
       "       [ 4.29286541],\n",
       "       [ 4.35190798],\n",
       "       [ 4.41095055],\n",
       "       [ 4.46999313],\n",
       "       [ 4.5290357 ],\n",
       "       [ 4.58807828],\n",
       "       [ 4.64712085],\n",
       "       [ 4.70616343],\n",
       "       [ 4.765206  ],\n",
       "       [ 4.82424857],\n",
       "       [ 4.88329115],\n",
       "       [ 4.94233372],\n",
       "       [ 5.0013763 ],\n",
       "       [ 5.06041887],\n",
       "       [ 5.11946144],\n",
       "       [ 5.17850402],\n",
       "       [ 5.23754659],\n",
       "       [ 5.29658917],\n",
       "       [ 5.35563174],\n",
       "       [ 5.41467431],\n",
       "       [ 5.47371689],\n",
       "       [ 5.53275946],\n",
       "       [ 5.59180204],\n",
       "       [ 5.65084461],\n",
       "       [ 5.70988719],\n",
       "       [ 5.76892976],\n",
       "       [ 5.82797233],\n",
       "       [ 5.88701491],\n",
       "       [ 5.94605748],\n",
       "       [ 6.00510006],\n",
       "       [ 6.06414263],\n",
       "       [ 6.1231852 ],\n",
       "       [ 6.18222778],\n",
       "       [ 6.24127035],\n",
       "       [ 6.30031293],\n",
       "       [ 6.3593555 ],\n",
       "       [ 6.41839807],\n",
       "       [ 6.47744065],\n",
       "       [ 6.53648322],\n",
       "       [ 6.5955258 ],\n",
       "       [ 6.65456837],\n",
       "       [ 6.71361095],\n",
       "       [ 6.77265352],\n",
       "       [ 6.83169609],\n",
       "       [ 6.89073867],\n",
       "       [ 6.94978124],\n",
       "       [ 7.00882382],\n",
       "       [ 7.06786639],\n",
       "       [ 7.12690896],\n",
       "       [ 7.18595154],\n",
       "       [ 7.24499411],\n",
       "       [ 7.30403669],\n",
       "       [ 7.36307926],\n",
       "       [ 7.42212183],\n",
       "       [ 7.48116441],\n",
       "       [ 7.54020698],\n",
       "       [ 7.59924956],\n",
       "       [ 7.65829213],\n",
       "       [ 7.71733471],\n",
       "       [ 7.77637728],\n",
       "       [ 7.83541985],\n",
       "       [ 7.89446243],\n",
       "       [ 7.953505  ],\n",
       "       [ 8.01254758],\n",
       "       [ 8.07159015],\n",
       "       [ 8.13063272],\n",
       "       [ 8.1896753 ],\n",
       "       [ 8.24871787],\n",
       "       [ 8.30776045],\n",
       "       [ 8.36680302],\n",
       "       [ 8.42584559],\n",
       "       [ 8.48488817],\n",
       "       [ 8.54393074],\n",
       "       [ 8.60297332],\n",
       "       [ 8.66201589],\n",
       "       [ 8.72105847],\n",
       "       [ 8.78010104],\n",
       "       [ 8.83914361],\n",
       "       [ 8.89818619],\n",
       "       [ 8.95722876],\n",
       "       [ 9.01627134],\n",
       "       [ 9.07531391],\n",
       "       [ 9.13435648],\n",
       "       [ 9.19339906],\n",
       "       [ 9.25244163],\n",
       "       [ 9.31148421],\n",
       "       [ 9.37052678],\n",
       "       [ 9.42956935],\n",
       "       [ 9.48861193],\n",
       "       [ 9.5476545 ],\n",
       "       [ 9.60669708],\n",
       "       [ 9.66573965],\n",
       "       [ 9.72478222],\n",
       "       [ 9.7838248 ],\n",
       "       [ 9.84286737],\n",
       "       [ 9.90190995],\n",
       "       [ 9.96095252],\n",
       "       [10.0199951 ]])"
      ]
     },
     "execution_count": 8,
     "metadata": {},
     "output_type": "execute_result"
    }
   ],
   "source": [
    "class NormalEquationLinearRegression():\n",
    "    def fit(self, X, y):\n",
    "        X = np.c_[np.ones((X.shape[0], 1)), np.array(X)]\n",
    "        y = np.array(y)\n",
    "        self.theta = np.linalg.inv(X.transpose().dot(X)).dot(X.transpose()).dot(y)\n",
    "    \n",
    "    def predict(self, X):\n",
    "        X = np.c_[np.ones((X.shape[0], 1)), np.array(X)]\n",
    "        return X.dot(self.theta)\n",
    "    \n",
    "my_reg = NormalEquationLinearRegression()\n",
    "my_reg.fit(X, y)\n",
    "print(my_reg.theta)\n",
    "y_pred = my_reg.predict(X_test)\n",
    "y_pred"
   ]
  },
  {
   "cell_type": "markdown",
   "metadata": {},
   "source": [
    "#  Gradient Descent"
   ]
  },
  {
   "cell_type": "markdown",
   "metadata": {},
   "source": [
    "Um outro método de treinamento de uma regressão linear é o método do máximo declive (*gradient descent*). Este método também serve para outros regressores e classificadores, é bastante genérico - usaremos bastante o gradient descent em redes neurais!\n",
    "\n",
    "Este método se baseia na observação seguinte:\n",
    "\n",
    "- O gradiente da função de erro médio é um vetor no espaço de características que aponta na direção de maior crescimento do erro.\n",
    "- Logo, se desejo achar os parâmetros que minimizam o erro, basta andar na direção contrária do gradiente do erro!\n",
    "\n",
    "Ou seja, partindo de um \"chute\" aleatório $\\mathbf{\\theta}_{0}$ dos valores dos parâmetros, vamos iterativamente melhorar nossos parâmetros através de pequenos incrementos neste na direção oposta ao gradiente da função de erro:\n",
    "\n",
    "$$\n",
    "\\mathbf{\\theta}_{i + 1} = \\mathbf{\\theta}_{i} - \\eta \\nabla_{\\mathbf{\\theta}} \\varepsilon^2\\left(\\mathbf{X}_{\\text{train}}, \\mathbf{y}_{\\text{train}}, \\mathbf{\\theta}_{i}\\right)\n",
    "$$\n",
    "\n",
    "O **hiperparâmetro** $\\eta$ é chamado de *passo de aprendizado* (*learning step*) do algoritmo.\n",
    "\n",
    "Continuamos iterando através desta fórmula até que não tenhamos mais mudanças significativas em $\\mathbf{\\theta}$, ou seja: para uma pequena tolerância $\\epsilon > 0$\n",
    "\n",
    "$$\n",
    "\\left| \\, \\mathbf{\\theta}_{i + 1} - \\mathbf{\\theta}_{i} \\, \\right| < \\epsilon\n",
    "$$\n",
    "\n",
    "O **hiperparâmetro** $\\epsilon$ controla a precisão desejada na solução final. Se a tolerância for muito pequena pode ser que o algoritmo não convirja rapidamente. Neste caso é comum definir um número máximo de iterações através de outro **hiperparâmetro** ``max_iter``."
   ]
  },
  {
   "cell_type": "markdown",
   "metadata": {},
   "source": [
    "**Atividade:** Estude o material do livro texto (Géron), capítulo 4 e responda:\n",
    "\n",
    "- Qual a diferença entre batch gradient descent, stochastic gradient descent, e mini-batch gradient descent?\n",
    "- O que acontece quando $\\eta$ é muito pequeno?\n",
    "- O que acontece quando $\\eta$ é muito grande?\n",
    "- Quais as classes do scikit-learn que implementam regressão linear usando a equação normal no treinamento? Quais usam gradient descent em alguma de suas formas?"
   ]
  },
  {
   "cell_type": "markdown",
   "metadata": {},
   "source": [
    "**R:** \n",
    "- Batch Gradient descent: Treina em cima de todas as amostras a cada iteração, otimiza os parametros passo a passo em direção ao minimo. É lento para muitas amostras.\n",
    "- Stochastic Gradien descent: Treina em cima de amostras aleatórias. Otimiza os parametros aleatóriamento, somente melhorando na média, não a cada iteração. É o mais rápido. Escapa de minimos locais. Não encontra o ponto mais otimizado, mas fica próximo.\n",
    "- Mini-Batch Gradien descent: Treina em cima de algumas amostras aleatórias, fingindo que elas são toda a base de dados. Também otimiza seus parametros de maneira aleatória. É mais rápido que o Batch. Não encontra o ponto mais otimizado, mas fica próximo.\n",
    "\n",
    "- Quando o Learning rate é muito pequeno, o algoritmo demora muito para encontrar o ponto ótimo. Caso o algoritmo tive limite de iterações, pode ocorrer dele ficar longe do ponto ótimo.\n",
    "\n",
    "- Quando o Learning rate é muito grande, o algoritmo pode divergir, fungindo assim do ponto mínimo.\n",
    "\n",
    "- A classe que utiliza regressão linear é o LinearRegression enquanto o que usa o Stochastic Gradien descent é o SGDRegressor."
   ]
  },
  {
   "cell_type": "markdown",
   "metadata": {},
   "source": [
    "Vamos implementar o método do *gradient descent* para resolver o problema do treinamento do modelo linear.\n",
    "\n",
    "Vamos desenhar a discussão acima na forma de pseudo-código:\n",
    "\n",
    "- Entrada: \n",
    "    - Conjunto de treinamento $(\\mathbf{X}_{m \\times n}, \\mathbf{y}_{m \\times 1})$\n",
    "    - Valores iniciais do vetor de parâmetros $\\theta$\n",
    "    - Hiperparâmetros do algoritmo: \n",
    "        - tolerância $\\epsilon$\n",
    "        - número máximo de iterações $N_{\\text{max}}$\n",
    "        - taxa de aprendizado $\\eta$\n",
    "- Saida: \n",
    "    - Valores ótimos do vetor de parametros $\\theta$\n",
    "\n",
    "Algoritmo:\n",
    "\n",
    "- $acabou \\leftarrow Falso$\n",
    "- $iter \\leftarrow 0$\n",
    "- enquanto não $acabou$:\n",
    "    - $\\theta_{novo} \\leftarrow \\theta - \\eta \\nabla_{\\theta} \\varepsilon^2\\left(\\mathbf{X}, \\mathbf{y}, \\theta\\right)$\n",
    "    - $iter \\leftarrow iter + 1$\n",
    "    - se $\\left| \\, \\theta - \\theta_{novo} \\, \\right| < \\epsilon$ ou $iter > N_{\\text{max}}$:\n",
    "        - $acabou \\leftarrow Verdadeiro$\n",
    "    - $\\theta \\leftarrow \\theta_{novo}$\n",
    "- retorna $\\theta$\n",
    "\n",
    "**Atividade**: Implemente o algoritmo de *gradient descent* na forma de um modelo do Scikit-Learn e teste o resultado! Lembrando: \n",
    "\n",
    "$$\n",
    "\\nabla_{\\theta} \\varepsilon^2\\left(\\mathbf{X}, \\mathbf{y}, \\theta \\right) = \n",
    "\\frac{1}{m} (\n",
    "    2 \\mathbf{X}^{T} \\mathbf{X} \\mathbf{\\theta} \n",
    "  - 2 \\mathbf{X}^{T} \\mathbf{y})\n",
    "$$\n",
    "\n",
    "sendo que a matriz $\\mathbf{X}$ já contem o termo constante (aquela coluna de $1$s)."
   ]
  },
  {
   "cell_type": "code",
   "execution_count": 9,
   "metadata": {},
   "outputs": [
    {
     "name": "stdout",
     "output_type": "stream",
     "text": [
      "convergiu\n",
      "[[4.17477802]\n",
      " [2.92260934]]\n"
     ]
    },
    {
     "data": {
      "text/plain": [
       "array([[ 4.17477802],\n",
       "       [ 4.23382063],\n",
       "       [ 4.29286324],\n",
       "       [ 4.35190585],\n",
       "       [ 4.41094847],\n",
       "       [ 4.46999108],\n",
       "       [ 4.52903369],\n",
       "       [ 4.58807631],\n",
       "       [ 4.64711892],\n",
       "       [ 4.70616153],\n",
       "       [ 4.76520415],\n",
       "       [ 4.82424676],\n",
       "       [ 4.88328937],\n",
       "       [ 4.94233198],\n",
       "       [ 5.0013746 ],\n",
       "       [ 5.06041721],\n",
       "       [ 5.11945982],\n",
       "       [ 5.17850244],\n",
       "       [ 5.23754505],\n",
       "       [ 5.29658766],\n",
       "       [ 5.35563028],\n",
       "       [ 5.41467289],\n",
       "       [ 5.4737155 ],\n",
       "       [ 5.53275811],\n",
       "       [ 5.59180073],\n",
       "       [ 5.65084334],\n",
       "       [ 5.70988595],\n",
       "       [ 5.76892857],\n",
       "       [ 5.82797118],\n",
       "       [ 5.88701379],\n",
       "       [ 5.9460564 ],\n",
       "       [ 6.00509902],\n",
       "       [ 6.06414163],\n",
       "       [ 6.12318424],\n",
       "       [ 6.18222686],\n",
       "       [ 6.24126947],\n",
       "       [ 6.30031208],\n",
       "       [ 6.3593547 ],\n",
       "       [ 6.41839731],\n",
       "       [ 6.47743992],\n",
       "       [ 6.53648253],\n",
       "       [ 6.59552515],\n",
       "       [ 6.65456776],\n",
       "       [ 6.71361037],\n",
       "       [ 6.77265299],\n",
       "       [ 6.8316956 ],\n",
       "       [ 6.89073821],\n",
       "       [ 6.94978083],\n",
       "       [ 7.00882344],\n",
       "       [ 7.06786605],\n",
       "       [ 7.12690866],\n",
       "       [ 7.18595128],\n",
       "       [ 7.24499389],\n",
       "       [ 7.3040365 ],\n",
       "       [ 7.36307912],\n",
       "       [ 7.42212173],\n",
       "       [ 7.48116434],\n",
       "       [ 7.54020695],\n",
       "       [ 7.59924957],\n",
       "       [ 7.65829218],\n",
       "       [ 7.71733479],\n",
       "       [ 7.77637741],\n",
       "       [ 7.83542002],\n",
       "       [ 7.89446263],\n",
       "       [ 7.95350525],\n",
       "       [ 8.01254786],\n",
       "       [ 8.07159047],\n",
       "       [ 8.13063308],\n",
       "       [ 8.1896757 ],\n",
       "       [ 8.24871831],\n",
       "       [ 8.30776092],\n",
       "       [ 8.36680354],\n",
       "       [ 8.42584615],\n",
       "       [ 8.48488876],\n",
       "       [ 8.54393138],\n",
       "       [ 8.60297399],\n",
       "       [ 8.6620166 ],\n",
       "       [ 8.72105921],\n",
       "       [ 8.78010183],\n",
       "       [ 8.83914444],\n",
       "       [ 8.89818705],\n",
       "       [ 8.95722967],\n",
       "       [ 9.01627228],\n",
       "       [ 9.07531489],\n",
       "       [ 9.1343575 ],\n",
       "       [ 9.19340012],\n",
       "       [ 9.25244273],\n",
       "       [ 9.31148534],\n",
       "       [ 9.37052796],\n",
       "       [ 9.42957057],\n",
       "       [ 9.48861318],\n",
       "       [ 9.5476558 ],\n",
       "       [ 9.60669841],\n",
       "       [ 9.66574102],\n",
       "       [ 9.72478363],\n",
       "       [ 9.78382625],\n",
       "       [ 9.84286886],\n",
       "       [ 9.90191147],\n",
       "       [ 9.96095409],\n",
       "       [10.0199967 ]])"
      ]
     },
     "execution_count": 9,
     "metadata": {},
     "output_type": "execute_result"
    }
   ],
   "source": [
    "class GradientDescentLinearRegression():\n",
    "    def __init__(self, eta, eps, Nmax):\n",
    "        self.eta = eta\n",
    "        self.eps = eps\n",
    "        self.Nmax = Nmax\n",
    "        \n",
    "    def fit(self, X, y):\n",
    "        X = np.c_[np.ones((X.shape[0], 1)), np.array(X)]\n",
    "        y = np.array(y)\n",
    "        \n",
    "        m = X.shape[0]\n",
    "        \n",
    "        # Precalcular coisas do gradiente\n",
    "        XtX = (2.0/m)*X.transpose().dot(X)\n",
    "        Xty = (2.0/m)*X.transpose().dot(y)\n",
    "        \n",
    "        theta = np.zeros((X.shape[1], 1))\n",
    "        acabou = False\n",
    "        it = 0\n",
    "        while not acabou:\n",
    "            grad = XtX.dot(theta) - Xty\n",
    "            new_theta = theta - self.eta * grad\n",
    "            it += 1\n",
    "            dist = np.linalg.norm(grad)\n",
    "            if dist < self.eps or it > self.Nmax:\n",
    "                acabou = True\n",
    "                print('não convergiu' if it > self.Nmax else 'convergiu')\n",
    "            theta = new_theta\n",
    "                \n",
    "        self.theta = theta\n",
    "    \n",
    "    def predict(self, X):\n",
    "        X = np.c_[np.ones((X.shape[0], 1)), np.array(X)]\n",
    "        return X.dot(self.theta)\n",
    "\n",
    "eta = 1e-1\n",
    "eps = 1e-6\n",
    "Nmax = 1000\n",
    "my_reg = GradientDescentLinearRegression(eta, eps, Nmax)\n",
    "my_reg.fit(X, y)\n",
    "print(my_reg.theta)\n",
    "y_pred = my_reg.predict(X_test)\n",
    "y_pred"
   ]
  },
  {
   "cell_type": "markdown",
   "metadata": {},
   "source": [
    "## Batch versus mini-batch versus stochastic gradient descent\n",
    "\n",
    "O algoritmo acima chama-se *batch gradient descent*, pois opera com o lote (batch) completo de amostras de treinamento de uma vez só. Mas pense um pouco: será que precisamos de todas as amostras de treinamento para calcular um gradiente razoável? Considere os cenários a seguir:\n",
    "\n",
    "- Calcular o gradiente do erro usando todas as amostras de um conjunto de treinamento com centenas de milhares de amostras.\n",
    "\n",
    "- Calcular o gradiente do erro usando metade deste mesmo conjunto de treinamento.\n",
    "\n",
    "Certamente o segundo caso não vai retornar o \"melhor\" gradiente, mas vai retornar algo muito próximo com um custo *MUITO* menor! Outra consideração, até mais importante: *O CONJUNTO DE TREINAMENTO PODE NEM CABER NA MEMÓRIA RAM*! <-- Sofri com isso na aula 4. Não tinha memória para 60000 linhas de 784 colunas.\n",
    "\n",
    "Este *insight* leva ao método *mini-batch gradient descent*: ao invés de trabalhar com o conjunto completo de treinamento de uma vez só, trabalhe com ele por pedaços, rotacionando o pedaço usado a cada iteração do algoritmo.\n",
    "\n",
    "O algoritmo então fica assim:\n",
    "\n",
    "- $acabou \\leftarrow Falso$\n",
    "- $iter \\leftarrow 0$\n",
    "- enquanto não $acabou$:\n",
    "    - $\\theta_{novo} \\leftarrow \\theta$\n",
    "    - Para cada *mini-batch* $(\\mathbf{X}_{b}, \\mathbf{y}_{b})$ de $(\\mathbf{X}, \\mathbf{y})$:\n",
    "        - $\\theta_{novo} \\leftarrow \\theta_{novo} - \\eta \\nabla_{\\theta_{novo}} \\varepsilon^2\\left(\\mathbf{X}_{b}, \\mathbf{y}_{b}, \\theta_{novo}\\right)$\n",
    "    - $iter \\leftarrow iter + 1$\n",
    "    - se $\\left| \\, \\theta - \\theta_{novo} \\, \\right| < \\epsilon$ ou $iter > N_{\\text{max}}$:\n",
    "        - $acabou \\leftarrow Verdadeiro$\n",
    "    - $\\theta \\leftarrow \\theta_{novo}$\n",
    "- retorna $\\theta$\n",
    "\n",
    "Cada passagem completa por todos os *mini-batches* (ou seja, um passo pelo *batch* completo) chama-se *epoch* no linguajar de machine learning.\n",
    "\n",
    "No caso limite em que o tamanho do *mini-batch* é $1$ (!!!), mas a amostra é escolhida ao acaso (ao invés de passar por todas as amostras), temos o algoritmo *stochastic gradient descent*."
   ]
  },
  {
   "cell_type": "code",
   "execution_count": 10,
   "metadata": {},
   "outputs": [
    {
     "name": "stdout",
     "output_type": "stream",
     "text": [
      "convergiu\n",
      "[[4.05655318]\n",
      " [3.00064085]]\n"
     ]
    },
    {
     "data": {
      "text/plain": [
       "array([[ 4.05655318],\n",
       "       [ 4.11717219],\n",
       "       [ 4.17779119],\n",
       "       [ 4.2384102 ],\n",
       "       [ 4.29902921],\n",
       "       [ 4.35964821],\n",
       "       [ 4.42026722],\n",
       "       [ 4.48088623],\n",
       "       [ 4.54150524],\n",
       "       [ 4.60212424],\n",
       "       [ 4.66274325],\n",
       "       [ 4.72336226],\n",
       "       [ 4.78398126],\n",
       "       [ 4.84460027],\n",
       "       [ 4.90521928],\n",
       "       [ 4.96583829],\n",
       "       [ 5.02645729],\n",
       "       [ 5.0870763 ],\n",
       "       [ 5.14769531],\n",
       "       [ 5.20831431],\n",
       "       [ 5.26893332],\n",
       "       [ 5.32955233],\n",
       "       [ 5.39017134],\n",
       "       [ 5.45079034],\n",
       "       [ 5.51140935],\n",
       "       [ 5.57202836],\n",
       "       [ 5.63264736],\n",
       "       [ 5.69326637],\n",
       "       [ 5.75388538],\n",
       "       [ 5.81450438],\n",
       "       [ 5.87512339],\n",
       "       [ 5.9357424 ],\n",
       "       [ 5.99636141],\n",
       "       [ 6.05698041],\n",
       "       [ 6.11759942],\n",
       "       [ 6.17821843],\n",
       "       [ 6.23883743],\n",
       "       [ 6.29945644],\n",
       "       [ 6.36007545],\n",
       "       [ 6.42069446],\n",
       "       [ 6.48131346],\n",
       "       [ 6.54193247],\n",
       "       [ 6.60255148],\n",
       "       [ 6.66317048],\n",
       "       [ 6.72378949],\n",
       "       [ 6.7844085 ],\n",
       "       [ 6.84502751],\n",
       "       [ 6.90564651],\n",
       "       [ 6.96626552],\n",
       "       [ 7.02688453],\n",
       "       [ 7.08750353],\n",
       "       [ 7.14812254],\n",
       "       [ 7.20874155],\n",
       "       [ 7.26936055],\n",
       "       [ 7.32997956],\n",
       "       [ 7.39059857],\n",
       "       [ 7.45121758],\n",
       "       [ 7.51183658],\n",
       "       [ 7.57245559],\n",
       "       [ 7.6330746 ],\n",
       "       [ 7.6936936 ],\n",
       "       [ 7.75431261],\n",
       "       [ 7.81493162],\n",
       "       [ 7.87555063],\n",
       "       [ 7.93616963],\n",
       "       [ 7.99678864],\n",
       "       [ 8.05740765],\n",
       "       [ 8.11802665],\n",
       "       [ 8.17864566],\n",
       "       [ 8.23926467],\n",
       "       [ 8.29988367],\n",
       "       [ 8.36050268],\n",
       "       [ 8.42112169],\n",
       "       [ 8.4817407 ],\n",
       "       [ 8.5423597 ],\n",
       "       [ 8.60297871],\n",
       "       [ 8.66359772],\n",
       "       [ 8.72421672],\n",
       "       [ 8.78483573],\n",
       "       [ 8.84545474],\n",
       "       [ 8.90607375],\n",
       "       [ 8.96669275],\n",
       "       [ 9.02731176],\n",
       "       [ 9.08793077],\n",
       "       [ 9.14854977],\n",
       "       [ 9.20916878],\n",
       "       [ 9.26978779],\n",
       "       [ 9.3304068 ],\n",
       "       [ 9.3910258 ],\n",
       "       [ 9.45164481],\n",
       "       [ 9.51226382],\n",
       "       [ 9.57288282],\n",
       "       [ 9.63350183],\n",
       "       [ 9.69412084],\n",
       "       [ 9.75473984],\n",
       "       [ 9.81535885],\n",
       "       [ 9.87597786],\n",
       "       [ 9.93659687],\n",
       "       [ 9.99721587],\n",
       "       [10.05783488]])"
      ]
     },
     "execution_count": 10,
     "metadata": {},
     "output_type": "execute_result"
    }
   ],
   "source": [
    "def grad(X, y, theta):\n",
    "    m = X.shape[0]\n",
    "    XtX = (2.0/m)*X.transpose().dot(X)\n",
    "    Xty = (2.0/m)*X.transpose().dot(y)\n",
    "    grad = XtX.dot(theta) - Xty\n",
    "    return grad\n",
    "\n",
    "class MiniBatchGradientDescentLinearRegression():\n",
    "    def __init__(self, eta, eps, Nmax, batch_size):\n",
    "        self.eta = eta\n",
    "        self.eps = eps\n",
    "        self.Nmax = Nmax\n",
    "        self.batch_size = batch_size\n",
    "        \n",
    "    def fit(self, X, y):\n",
    "        X = np.c_[np.ones((X.shape[0], 1)), np.array(X)]\n",
    "        y = np.array(y)\n",
    "        m = X.shape[0]\n",
    "        \n",
    "        theta = np.zeros((X.shape[1], 1))\n",
    "        acabou = False\n",
    "        it = 0\n",
    "        while not acabou:\n",
    "            new_theta = theta\n",
    "            for k in range(0, m, self.batch_size):\n",
    "                ktop = k + self.batch_size\n",
    "                if ktop > m:\n",
    "                    ktop = m\n",
    "                Xbatch = X[k:ktop, :]\n",
    "                ybatch = y[k:ktop]\n",
    "                new_theta = new_theta - self.eta * grad(Xbatch, ybatch, new_theta)\n",
    "            it += 1\n",
    "            dist = np.linalg.norm(theta - new_theta)\n",
    "            if dist < self.eps or it > self.Nmax:\n",
    "                acabou = True\n",
    "                print('não convergiu' if it > self.Nmax else 'convergiu')\n",
    "            theta = new_theta\n",
    "                \n",
    "        self.theta = theta\n",
    "    \n",
    "    def predict(self, X):\n",
    "        X = np.c_[np.ones((X.shape[0], 1)), np.array(X)]\n",
    "        return X.dot(self.theta)\n",
    "\n",
    "eta = 1e-1\n",
    "eps = 1e-6\n",
    "Nmax = 1000\n",
    "my_reg = MiniBatchGradientDescentLinearRegression(eta, eps, Nmax, 10)\n",
    "my_reg.fit(X, y)\n",
    "print(my_reg.theta)\n",
    "y_pred = my_reg.predict(X_test)\n",
    "y_pred"
   ]
  },
  {
   "cell_type": "markdown",
   "metadata": {},
   "source": [
    "# Regressão polinomial"
   ]
  },
  {
   "cell_type": "markdown",
   "metadata": {},
   "source": [
    "E se os dados não se ajustam a uma linha reta (ou um hiperplano, no caso geral)? Considere o seguinte problema:"
   ]
  },
  {
   "cell_type": "code",
   "execution_count": 4,
   "metadata": {},
   "outputs": [],
   "source": [
    "np.random.seed(42)\n",
    "\n",
    "m = 100\n",
    "X = 6 * np.random.rand(m, 1) - 3\n",
    "y = 0.5 * X**2 + X + 2 + np.random.randn(m, 1)"
   ]
  },
  {
   "cell_type": "code",
   "execution_count": 5,
   "metadata": {},
   "outputs": [
    {
     "data": {
      "text/plain": [
       "array([[ 0.01300189],\n",
       "       [ 1.45353408],\n",
       "       [-0.26465683],\n",
       "       [ 2.72016917],\n",
       "       [ 0.62566735],\n",
       "       [-0.85715756],\n",
       "       [-1.0708925 ],\n",
       "       [ 0.48247242],\n",
       "       [-0.22346279],\n",
       "       [ 0.71400049],\n",
       "       [ 0.47323762],\n",
       "       [-0.07282891],\n",
       "       [-0.84679372],\n",
       "       [-1.51484722],\n",
       "       [-0.44651495],\n",
       "       [ 0.85639879],\n",
       "       [ 0.21409374],\n",
       "       [-1.24573878],\n",
       "       [ 0.17318093],\n",
       "       [ 0.38531738],\n",
       "       [-0.88385744],\n",
       "       [ 0.15372511],\n",
       "       [ 0.05820872],\n",
       "       [-1.1429703 ],\n",
       "       [ 0.35778736],\n",
       "       [ 0.56078453],\n",
       "       [ 1.08305124],\n",
       "       [ 1.05380205],\n",
       "       [-1.37766937],\n",
       "       [-0.93782504],\n",
       "       [ 0.51503527],\n",
       "       [ 0.51378595],\n",
       "       [ 0.51504769],\n",
       "       [ 3.85273149],\n",
       "       [ 0.57089051],\n",
       "       [ 1.13556564],\n",
       "       [ 0.95400176],\n",
       "       [ 0.65139125],\n",
       "       [-0.31526924],\n",
       "       [ 0.75896922],\n",
       "       [-0.77282521],\n",
       "       [-0.23681861],\n",
       "       [-0.48536355],\n",
       "       [ 0.08187414],\n",
       "       [ 2.31465857],\n",
       "       [-1.86726519],\n",
       "       [ 0.68626019],\n",
       "       [-1.61271587],\n",
       "       [-0.47193187],\n",
       "       [ 1.0889506 ],\n",
       "       [ 0.06428002],\n",
       "       [-1.07774478],\n",
       "       [-0.71530371],\n",
       "       [ 0.67959775],\n",
       "       [-0.73036663],\n",
       "       [ 0.21645859],\n",
       "       [ 0.04557184],\n",
       "       [-0.65160035],\n",
       "       [ 2.14394409],\n",
       "       [ 0.63391902],\n",
       "       [-2.02514259],\n",
       "       [ 0.18645431],\n",
       "       [-0.66178646],\n",
       "       [ 0.85243333],\n",
       "       [-0.79252074],\n",
       "       [-0.11473644],\n",
       "       [ 0.50498728],\n",
       "       [ 0.86575519],\n",
       "       [-1.20029641],\n",
       "       [-0.33450124],\n",
       "       [-0.47494531],\n",
       "       [-0.65332923],\n",
       "       [ 1.76545424],\n",
       "       [ 0.40498171],\n",
       "       [-1.26088395],\n",
       "       [ 0.91786195],\n",
       "       [ 2.1221562 ],\n",
       "       [ 1.03246526],\n",
       "       [-1.51936997],\n",
       "       [-0.48423407],\n",
       "       [ 1.26691115],\n",
       "       [-0.70766947],\n",
       "       [ 0.44381943],\n",
       "       [ 0.77463405],\n",
       "       [-0.92693047],\n",
       "       [-0.05952536],\n",
       "       [-3.24126734],\n",
       "       [-1.02438764],\n",
       "       [-0.25256815],\n",
       "       [-1.24778318],\n",
       "       [ 1.6324113 ],\n",
       "       [-1.43014138],\n",
       "       [-0.44004449],\n",
       "       [ 0.13074058],\n",
       "       [ 1.44127329],\n",
       "       [-1.43586215],\n",
       "       [ 1.16316375],\n",
       "       [ 0.01023306],\n",
       "       [-0.98150865],\n",
       "       [ 0.46210347]])"
      ]
     },
     "execution_count": 5,
     "metadata": {},
     "output_type": "execute_result"
    }
   ],
   "source": [
    " np.random.randn(m, 1)"
   ]
  },
  {
   "cell_type": "code",
   "execution_count": 12,
   "metadata": {},
   "outputs": [
    {
     "data": {
      "image/png": "[encoded data removed]",
      "text/plain": [
       "<Figure size 576x432 with 1 Axes>"
      ]
     },
     "metadata": {
      "needs_background": "light"
     },
     "output_type": "display_data"
    }
   ],
   "source": [
    "plt.figure(figsize=(8,6))\n",
    "plt.plot(X, y, \"b.\")\n",
    "plt.xlabel(\"$x_1$\", fontsize=18)\n",
    "plt.ylabel(\"$y$\", rotation=0, fontsize=18)\n",
    "plt.axis([-3, 3, 0, 10])\n",
    "plt.show()"
   ]
  },
  {
   "cell_type": "markdown",
   "metadata": {},
   "source": [
    "Obviamente não podemos atingir um bom *fit* com uma linha reta! A solução para nosso problema é criar novas *features* com valores polinomiais:"
   ]
  },
  {
   "cell_type": "code",
   "execution_count": 13,
   "metadata": {},
   "outputs": [
    {
     "name": "stdout",
     "output_type": "stream",
     "text": [
      "Tamanho original da matriz de amostras: (100, 1)\n",
      "Algumas das amostras originais:\n",
      "[[-0.75275929]\n",
      " [ 2.70428584]\n",
      " [ 1.39196365]\n",
      " [ 0.59195091]\n",
      " [-2.06388816]]\n",
      "Tamanho da matriz de amostras aumentada: (100, 3)\n",
      "Algumas das amostras da matriz aumentada:\n",
      "[[ 1.         -0.75275929  0.56664654]\n",
      " [ 1.          2.70428584  7.3131619 ]\n",
      " [ 1.          1.39196365  1.93756281]\n",
      " [ 1.          0.59195091  0.35040587]\n",
      " [ 1.         -2.06388816  4.25963433]]\n"
     ]
    }
   ],
   "source": [
    "print('Tamanho original da matriz de amostras: {}'.format(X.shape))\n",
    "print('Algumas das amostras originais:\\n{}'.format(X[:5]))\n",
    "\n",
    "# Adicionando uma coluna de 1s.\n",
    "X_b = np.c_[np.ones((m, 1)), X, X**2]\n",
    "\n",
    "print('Tamanho da matriz de amostras aumentada: {}'.format(X_b.shape))\n",
    "print('Algumas das amostras da matriz aumentada:\\n{}'.format(X_b[:5]))"
   ]
  },
  {
   "cell_type": "markdown",
   "metadata": {},
   "source": [
    "Usamos novamente a equação normal para achar os parâmetros ótimos (ou o gradient descent também serve!)"
   ]
  },
  {
   "cell_type": "code",
   "execution_count": 14,
   "metadata": {},
   "outputs": [
    {
     "data": {
      "text/plain": [
       "array([[1.78134581],\n",
       "       [0.93366893],\n",
       "       [0.56456263]])"
      ]
     },
     "execution_count": 14,
     "metadata": {},
     "output_type": "execute_result"
    }
   ],
   "source": [
    "theta_best = np.linalg.inv(X_b.T.dot(X_b)).dot(X_b.T).dot(y)\n",
    "theta_best"
   ]
  },
  {
   "cell_type": "markdown",
   "metadata": {},
   "source": [
    "Agora vamos ver como ficou nosso *fit*:"
   ]
  },
  {
   "cell_type": "code",
   "execution_count": 15,
   "metadata": {},
   "outputs": [
    {
     "data": {
      "image/png": "[encoded data removed]",
      "text/plain": [
       "<Figure size 576x432 with 1 Axes>"
      ]
     },
     "metadata": {
      "needs_background": "light"
     },
     "output_type": "display_data"
    }
   ],
   "source": [
    "X_test = np.linspace(-3, 3, num=100).T\n",
    "X_test_b = np.c_[np.ones((m, 1)), X_test, X_test**2]\n",
    "y_test = X_test_b.dot(theta_best)\n",
    "\n",
    "plt.figure(figsize=(8,6))\n",
    "plt.plot(X, y, \"b.\")\n",
    "plt.plot(X_test, y_test, \"r-\")\n",
    "plt.xlabel(\"$x_1$\", fontsize=18)\n",
    "plt.ylabel(\"$y$\", rotation=0, fontsize=18)\n",
    "plt.axis([-3, 3, 0, 10])\n",
    "plt.show()"
   ]
  },
  {
   "cell_type": "markdown",
   "metadata": {},
   "source": [
    "Para criar *features* polinomiais de um grau qualquer em scikit-learn podemos usar a classe ``PolynomialFeatures``:"
   ]
  },
  {
   "cell_type": "code",
   "execution_count": 16,
   "metadata": {},
   "outputs": [
    {
     "name": "stdout",
     "output_type": "stream",
     "text": [
      "(100, 1)\n",
      "(100, 2)\n"
     ]
    }
   ],
   "source": [
    "from sklearn.preprocessing import PolynomialFeatures\n",
    "\n",
    "# Nota: include_bias=False porque o bias (termo constante) já estará incluso no regressor linear.\n",
    "poly_features = PolynomialFeatures(degree=2, include_bias=False)\n",
    "X_poly = poly_features.fit_transform(X)\n",
    "\n",
    "print(X.shape)\n",
    "print(X_poly.shape)"
   ]
  },
  {
   "cell_type": "code",
   "execution_count": 17,
   "metadata": {},
   "outputs": [
    {
     "name": "stdout",
     "output_type": "stream",
     "text": [
      "[-0.75275929]\n",
      "[-0.75275929  0.56664654]\n"
     ]
    }
   ],
   "source": [
    "print(X[0])\n",
    "print(X_poly[0])"
   ]
  },
  {
   "cell_type": "markdown",
   "metadata": {},
   "source": [
    "Podemos então fazer um regressor linear com estes novos dados:"
   ]
  },
  {
   "cell_type": "code",
   "execution_count": 18,
   "metadata": {},
   "outputs": [
    {
     "data": {
      "text/plain": [
       "(array([1.78134581]), array([[0.93366893, 0.56456263]]))"
      ]
     },
     "execution_count": 18,
     "metadata": {},
     "output_type": "execute_result"
    }
   ],
   "source": [
    "lin_reg = LinearRegression()\n",
    "lin_reg.fit(X_poly, y)\n",
    "lin_reg.intercept_, lin_reg.coef_"
   ]
  },
  {
   "cell_type": "markdown",
   "metadata": {},
   "source": [
    "Compare os resultados obtidos aqui com aqueles da equação normal obtidos anteriormente.\n",
    "\n",
    "Assim como o uso de *features* polinomiais leva a um modelo com melhor ajuste, podemos também usar outras funções como *features*, tais como $\\text{log}()$, $\\text{sin}()$, etc."
   ]
  },
  {
   "cell_type": "markdown",
   "metadata": {},
   "source": [
    "# Overfitting versus underfitting"
   ]
  },
  {
   "cell_type": "markdown",
   "metadata": {},
   "source": [
    "O que acontece se o grau do *fit* polinomial for muito baixo? E se for muito alto? Vamos experimentar um pouco:"
   ]
  },
  {
   "cell_type": "code",
   "execution_count": 19,
   "metadata": {},
   "outputs": [
    {
     "data": {
      "image/png": "[encoded data removed]",
      "text/plain": [
       "<Figure size 576x432 with 1 Axes>"
      ]
     },
     "metadata": {
      "needs_background": "light"
     },
     "output_type": "display_data"
    }
   ],
   "source": [
    "from sklearn.preprocessing import StandardScaler\n",
    "from sklearn.pipeline import Pipeline\n",
    "\n",
    "plt.figure(figsize=(8,6))\n",
    "plt.plot(X, y, \"b.\", linewidth=3)\n",
    "\n",
    "# Experimento 1: grau baixo.\n",
    "poly_reg_1 = Pipeline([\n",
    "        (\"poly_features\", PolynomialFeatures(degree=1, include_bias=False)),\n",
    "        (\"std_scaler\", StandardScaler()), \n",
    "        (\"lin_reg\", LinearRegression())\n",
    "    ])\n",
    "poly_reg_1.fit(X, y)\n",
    "y_test = poly_reg_1.predict(X_test.reshape(-1, 1))\n",
    "plt.plot(X_test, y_test, 'r-', label='grau 1')\n",
    "\n",
    "# Experimento 2: grau adequdo.\n",
    "poly_reg_2 = Pipeline([\n",
    "        (\"poly_features\", PolynomialFeatures(degree=2, include_bias=False)),\n",
    "        (\"std_scaler\", StandardScaler()), \n",
    "        (\"lin_reg\", LinearRegression())\n",
    "    ])\n",
    "poly_reg_2.fit(X, y)\n",
    "y_test = poly_reg_2.predict(X_test.reshape(-1, 1))\n",
    "plt.plot(X_test, y_test, 'b-', label='grau 2')\n",
    "\n",
    "# Experimento 3: grau muito alto.\n",
    "poly_reg_30 = Pipeline([\n",
    "        (\"poly_features\", PolynomialFeatures(degree=30, include_bias=False)),\n",
    "        (\"std_scaler\", StandardScaler()), \n",
    "        (\"lin_reg\", LinearRegression())\n",
    "    ])\n",
    "poly_reg_30.fit(X, y)\n",
    "y_test = poly_reg_30.predict(X_test.reshape(-1, 1))\n",
    "plt.plot(X_test, y_test, 'g-', label='grau 30')\n",
    "\n",
    "plt.legend(loc=\"upper left\")\n",
    "plt.xlabel(\"$x_1$\", fontsize=18)\n",
    "plt.ylabel(\"$y$\", rotation=0, fontsize=18)\n",
    "plt.axis([-3, 3, 0, 10])\n",
    "plt.show()"
   ]
  },
  {
   "cell_type": "markdown",
   "metadata": {},
   "source": [
    "A curva verde, correspondente ao *fit* de grau 30, apresenta *overfitting*. Ao tentar se ajustar o melhor possível aos pontos de dados, a curva tende a apresentar comportamento exagerado fora destes. \n",
    "\n",
    "Uma característica marcante do *overfitting* é que o sistema perde sua capacidade de fazer predições de boa qualidade quando não está na vizinhança de um ponto de treinamento. Dizemos que o sistema não **generaliza** bem. Para observar a capacidade de generalização de um sistema podemos usar a estratégia de validação cruzada e obter uma medida mais realista do RMSE do classificador:"
   ]
  },
  {
   "cell_type": "code",
   "execution_count": 20,
   "metadata": {},
   "outputs": [
    {
     "name": "stdout",
     "output_type": "stream",
     "text": [
      "Fit de grau 1:\n",
      "RMSE = [1.86571015 1.61846216 1.82661634 1.62718083 1.78619243]\n",
      "média = 1.744832382371205, std = 0.10278329304877643\n",
      "\n",
      "Fit de grau 2:\n",
      "RMSE = [0.72745407 0.91894263 1.05905595 0.90376746 0.96825693]\n",
      "média = 0.9154954107199845, std = 0.1085378996489993\n",
      "\n",
      "Fit de grau 30:\n",
      "RMSE = [  1.66691065   1.46234031   1.40230858 285.93411597   1.28032092]\n",
      "média = 58.349199287018635, std = 113.79252709322566\n",
      "\n"
     ]
    }
   ],
   "source": [
    "from sklearn.model_selection import cross_val_score\n",
    "\n",
    "def experiment(reg, X, y, degree):\n",
    "    scores = np.sqrt(-cross_val_score(reg, X, y, cv=5, scoring='neg_mean_squared_error'))\n",
    "    print(\"Fit de grau {}:\\nRMSE = {}\\nmédia = {}, std = {}\\n\".format(degree, scores, scores.mean(), scores.std()))\n",
    "\n",
    "experiment(poly_reg_1, X, y, 1)\n",
    "experiment(poly_reg_2, X, y, 2)\n",
    "experiment(poly_reg_30, X, y, 30)"
   ]
  },
  {
   "cell_type": "markdown",
   "metadata": {},
   "source": [
    "Note que o erro de treinamento conta uma história diferente:"
   ]
  },
  {
   "cell_type": "code",
   "execution_count": 21,
   "metadata": {},
   "outputs": [
    {
     "name": "stdout",
     "output_type": "stream",
     "text": [
      "Fit de grau 1: RMSE = 1.739127354922467\n",
      "Fit de grau 2: RMSE = 0.8815858814376717\n",
      "Fit de grau 30: RMSE = 0.779634047381818\n",
      "Modelo de grau 1: intercept = [3.41307859], coefs = [[1.49826128]]\n",
      "Modelo de grau 2: intercept = [3.41307859], coefs = [[1.65818609 1.50762934]]\n",
      "Modelo de grau 30: intercept = [3.41307839], coefs = [[ 4.91099382e+00  4.94687189e+01 -2.40069538e+02 -2.92827919e+03\n",
      "   8.24032093e+03  7.58972183e+04 -1.47538525e+05 -1.08500471e+06\n",
      "   1.54672314e+06  9.64544067e+06 -1.03275451e+07 -5.70606939e+07\n",
      "   4.64883201e+07  2.34263225e+08 -1.46251333e+08 -6.84887961e+08\n",
      "   3.28058054e+08  1.44526250e+09 -5.28053936e+08 -2.20664125e+09\n",
      "   6.05548065e+08  2.41424963e+09 -4.82905536e+08 -1.84480264e+09\n",
      "   2.54484156e+08  9.34699632e+08 -7.96622194e+07 -2.82095390e+08\n",
      "   1.12147886e+07  3.83795024e+07]]\n"
     ]
    }
   ],
   "source": [
    "from sklearn.metrics import mean_squared_error\n",
    "\n",
    "def final_train_error(X, y, reg):\n",
    "    reg.fit(X, y)\n",
    "    y_pred = reg.predict(X)  # Sim, estou predizendo no conjunto de treinamento.\n",
    "    return np.sqrt(mean_squared_error(y_pred, y))\n",
    "\n",
    "def params_to_str(pipeline):\n",
    "    aux = pipeline.named_steps['lin_reg']\n",
    "    return 'intercept = {}, coefs = {}'.format(aux.intercept_, aux.coef_)\n",
    "\n",
    "print('Fit de grau 1: RMSE = {}'.format(final_train_error(X, y, poly_reg_1)))\n",
    "print('Fit de grau 2: RMSE = {}'.format(final_train_error(X, y, poly_reg_2)))\n",
    "print('Fit de grau 30: RMSE = {}'.format(final_train_error(X, y, poly_reg_30)))\n",
    "\n",
    "print('Modelo de grau 1: {}'.format(params_to_str(poly_reg_1)))\n",
    "print('Modelo de grau 2: {}'.format(params_to_str(poly_reg_2)))\n",
    "print('Modelo de grau 30: {}'.format(params_to_str(poly_reg_30)))"
   ]
  },
  {
   "cell_type": "markdown",
   "metadata": {},
   "source": [
    "Podemos aqui observar uma característica marcante do *overfitting* versus *underfitting*:\n",
    "\n",
    "- **overfitting**: \n",
    "    - O modelo é **complexo demais** (permite sobreajuste, ou *overfitting*)\n",
    "    - erro de treinamento **baixo**\n",
    "    - erro médio de teste **geralmente alto** (mas **ocasionalmente baixo**)\n",
    "    - **variância alta** do erro de teste\n",
    "    \n",
    "- **underfitting**:\n",
    "    - O modelo é **simples demais** (não permite bom ajuste)\n",
    "    - erro de treinamento **alto**\n",
    "    - erro de teste **consistentemente alto**\n",
    "    - **variância baixa** do erro de teste"
   ]
  },
  {
   "cell_type": "markdown",
   "metadata": {},
   "source": [
    "### Regressor ótimo\n",
    "\n",
    "E agora, um pouco de Matemática!\n",
    "\n",
    "Para um dado valor de $\\mathbf{x}$, qual é o valor ideal de $h(\\mathbf{x})$? Depende do que a gente define por \"ideal\". \n",
    "\n",
    "Vamos supor que a definição de \"ideal\" é dada pelo RMSE. Minimizar o RMSE é a mesma coisa que minimizar o MSE (Minimum Squared Error):\n",
    "\n",
    "$$\n",
    "\\text{MSE} = \\frac{1}{m} \\sum_{i=1}^{m}\\left(h(\\mathbf{x}_i) - \\mathbf{y}_i\\right)^{2}\n",
    "$$\n",
    "\n",
    "Para atingir o mínimo do MSE devemos escolher uma $h(\\mathbf{x})$ que minimize $(h(\\mathbf{x}) - y)^2$ para qualquer valor dado de $\\mathbf{x}$. Mas veja só o problema: se para um dado $\\mathbf{x}$ só tivéssemos uma única possibilidade para $y$, o nosso problema estaria resolvido! Bastaria fazer o $h(\\mathbf{x})$ valer aquele $y$ e pronto! Só que o mundo real tem incertezas, ruído e variabilidade na aquisição de nossos vários $\\mathbf{x}_i$ e $y_i$, então não podemos afirmar categoricamente que para cada $\\mathbf{x}$ só existirá um único $y$, eterno e imutável...\n",
    "\n",
    "Pense assim: agora observamos que para um certo vetor $\\mathbf{x}$ medido, também medimos um valor $y$. Só que na sequência medimos de novo um valor de $y$ para esse mesmo $\\mathbf{x}$ e dá um valor um pouquinho diferente, por conta do ruído e outras incertezas!\n",
    "\n",
    "Matematicamente, dizemos que cada uma de nossas amostras $(\\mathbf{x}_i, y_i)$ foi obtida de um vetor aleatório (ou seja, um vetor de variáveis aleatórias) $(X, Y)$. Quando dizemos que existe incerteza em $y$ para um dado $\\mathbf{x}$, estamos dizendo que existe uma distribuição aleatória de valores de $y$ para este valor de $\\mathbf{x}$, ou seja, existe uma distribuição $P(Y | X=\\mathbf{x})$.\n",
    "\n",
    "Por exemplo, na figura a seguir temos uma situação em que foram observados os pontos em vermelho. Estes pontos foram gerados artificialmente assim:\n",
    "\n",
    "- Foram escolhidos pontos $x$ ao acaso entre $0$ e $10$\n",
    "\n",
    "- Para cada $x$ obtem-se um $y$ a partir de um polinomio de terceiro grau (curva em azul) ao qual se adicionou um valor aleatório amostrado de uma distribuição normal $N(\\mu=0, \\sigma=0.5)$.\n",
    "\n",
    "- Os pontos assim obtidos estão desenhados em vermelho.\n",
    "\n",
    "São dados *fake*, só para a gente estudar esse problema.\n",
    "\n",
    "![Ilustração P(Y | X=x)](y_for_x.png \"Ilustração P(Y | X=x)\")\n",
    "\n",
    "(Curiosamente, parece que a curva em azul é um excelente interpolador, ou seja, um candidato ideal para $h(\\mathbf{x})$! Isso não é um acidente, e vamos provar isso logo a seguir!)\n",
    "\n",
    "Vamos nos concentrar no valor $x = 6.2$, para efeito de exemplo. Qual a distribuição dos valores de $y$? Conforme visto no nosso processo artificial de geração dos pontos de exemplo, esperamos que a distribuição dos pontos de $y$ seja uma Gaussiana com média igual ao valor do polinômio azul ($4.48$), e desvio padrão valendo $0.5$. Isto está ilustrado na figura da direita.\n",
    "\n",
    "Então a frase \n",
    "\n",
    "- \"devemos minimizar $(h(\\mathbf{x}) - y)^2$\" \n",
    "\n",
    "não faz sentido (pois $y$ não é um valor único, é uma distribuição de valores), mas sim \n",
    "\n",
    "- \"devemos minimizar $E_{Y | X = \\mathbf{x}}[(h(X) - Y)^2]$\"\n",
    "\n",
    "onde o subscrito $Y | X = \\mathbf{x}$ no operador de esperança indica que estamos obtendo o valor esperado da expressão $(h(X) - Y)^2$ em relação à variável aleatória $Y$, no caso em que a variável aleatória $X$ vale $\\mathbf{x}$.\n",
    "\n",
    "Para simplificar a notação, vamos chamar de $\\hat{y} = h(\\mathbf{x})$ o valor estimado de $y$ em $\\mathbf{x}$. Vamos também chamar de $\\overline{y}$ o valor esperado de $Y$ dado $X = \\mathbf{x}$, ou seja, $\\overline{y} = E_{Y | X = \\mathbf{x}}[Y]$.\n",
    "\n",
    "Temos o seguinte:\n",
    "\n",
    "\\begin{align*}\n",
    "E_{Y | X = \\mathbf{x}}[(h(X) - Y)^2] & = E_{Y | X = \\mathbf{x}}[(h(\\mathbf{x}) - Y)^2] \n",
    "& \\,\\, \\text{(Pois $X$ vale $\\mathbf{x}$)} \\\\\n",
    "& = E_{Y | X = \\mathbf{x}}[(\\hat{y} - Y)^2]\n",
    "& \\,\\, \\text{(Pois $h(\\mathbf{x}) = \\hat{y}$)} \\\\\n",
    "& = E_{Y | X = \\mathbf{x}}[((\\hat{y} - \\overline{y}) - (Y - \\overline{y}))^2]\n",
    "& \\,\\, \\text{(Subtraindo e somando $\\overline{y}$)} \\\\\n",
    "& = E_{Y | X = \\mathbf{x}}[\n",
    "    (\\hat{y} - \\overline{y})^2 \n",
    "    + (Y - \\overline{y})^2 \n",
    "    - 2 (\\hat{y} - \\overline{y}) (Y - \\overline{y})]\n",
    "& \\,\\, \\text{(Produto notável)} \\\\\n",
    "& = E_{Y | X = \\mathbf{x}}[(\\hat{y} - \\overline{y})^2] \n",
    "& \\,\\, \\text{(Linearidade da esperança)} \\\\\n",
    "& \\phantom{ = }  + E_{Y | X = \\mathbf{x}}[(Y - \\overline{y})^2] \\\\\n",
    "& \\phantom{ = }  - 2 E_{Y | X = \\mathbf{x}}[(\\hat{y} - \\overline{y}) (Y - \\overline{y})] \\\\\n",
    "& = (\\hat{y} - \\overline{y})^2 \n",
    "& \\,\\, \\text{(Pois $\\hat{y}$ e $\\overline{y}$ são constantes)} \\\\\n",
    "& \\phantom{ = }  + \\text{Var}(Y | X = \\mathbf{x})\n",
    "& \\,\\, \\text{(Definição de variância)} \\\\\n",
    "& \\phantom{ = }  - 2 (\\hat{y} - \\overline{y}) (E_{Y | X = \\mathbf{x}}[Y] - \\overline{y})\n",
    "& \\,\\, \\text{(Pois $\\hat{y}$ e $\\overline{y}$ são constantes)} \\\\\n",
    "& = (\\hat{y} - \\overline{y})^2 + \\text{Var}(Y | X = \\mathbf{x})\n",
    "& \\,\\, \\text{(Pois $E_{Y | X = \\mathbf{x}}[Y] - \\overline{y} = 0$)} \\\\\n",
    "\\end{align*}\n",
    "\n",
    "Lembre-se: nosso objetivo é definir qual o melhor valor de $\\hat{y}$. Como nada se pode fazer sobre $\\text{Var}(Y | X = \\mathbf{x})$, só nos resta minimizar o termo $(\\hat{y} - \\overline{y})^2$. Isso é trivial: basta fazer $\\hat{y} = \\overline{y}$. Lembrando que $\\hat{y} = h(\\mathbf{x})$, chegamos ao nosso resultado final:\n",
    "\n",
    "**O regressor que minimiza o valor esperado do RMSE é $h(\\mathbf{x}) = \\text{Média}(Y | X = \\mathbf{x})$**\n",
    "\n",
    "Ou seja, a melhor estimativa de $y$ em $\\mathbf{x}$ é o valor médio de $y$ naquele ponto.\n",
    "\n",
    "Lembra-se que eu disse na aula 2 que se a gente trocasse a função quadrado por módulo dava outro resultado? Pois fica aqui a afirmação (sem demonstração no momento) sobre o melhor regressor nessas condições:\n",
    "\n",
    "**O regressor que minimiza o erro absoluto médio é $h(\\mathbf{x}) = \\text{Mediana}(Y | X = \\mathbf{x})$**"
   ]
  },
  {
   "cell_type": "markdown",
   "metadata": {},
   "source": [
    "### *Overfitting* e *underfitting* versus regressor ótimo"
   ]
  },
  {
   "cell_type": "markdown",
   "metadata": {},
   "source": [
    "Agora que conhecemos o regressor ótimo, vamos compará-lo no dataset artificial acima aos regressores polinomiais de grau 1 (muito baixo), grau 3 (ideal, pois coincide com o regressor ótimo para este dataset artificial) e grau 8 (muito alto).\n",
    "\n",
    "Geramos tres datasets diferentes para treinamento e um extra para teste, todos com a mesma estratégia acima (polinômio de grau 3, ao qual adicionamos ruido gaussiano).\n",
    "\n",
    "#### Fit linear - underfitting\n",
    "\n",
    "Vemos abaixo o resultado do fit linear para estes dados. As linhas sólidas coloridas representam o fit linear, enquando a linha tracejada preta demonstra o modelo ideal (o regressor ótimo).\n",
    "\n",
    "![fit grau 1](fit_grau_1.png \"fit grau 1\")\n",
    "\n",
    "Observe que todos os regressores lineares são próximos entre si, e todos falham em se ajustar bem aos dados por não terem liberdade suficiente para fazê-lo. Esta é uma característica do *underfitting*: os regressores ficam todos parecidos, e igualmente ruins.\n",
    "\n",
    "#### Fit polinomial de grau 3 - perto do ideal\n",
    "\n",
    "Vemos abaixo o resultado do ajuste polinomial de grau 3 para estes dados.\n",
    "\n",
    "![fit grau 3](fit_grau_3.png \"fit grau 3\")\n",
    "\n",
    "Observe que todos os regressores são próximos entre si, e também próximos do regressor ideal. Esta é uma caraterística que indica que estamos próximos do modelo de regressor ideal: todos os regressores ajustados são similares, e o erro de teste médio é o menor que se pode obter.\n",
    "\n",
    "#### Fit polinomial de grau 8 - overfitting\n",
    "\n",
    "Vemos abaixo o resultado do ajuste polinomial de grau 8 para estes dados.\n",
    "\n",
    "![fit grau 1](fit_grau_8.png \"fit grau 8\")\n",
    "\n",
    "Note que os vários regressores se ajustam bem aos pontos dos conjuntos de treinamento, mas diferem bastante entre si. Isto acontece justamente porque estes regressores se ajustaram tão bem aos dados de treinamento, incorporando a variabilidade de dados que se deve ao ruído, e não ao polinômio de grau 3 subjacente.\n",
    "\n",
    "#### Comparação entre os modelos\n",
    "\n",
    "Observe um *zoom* dos gráficos acima comparando os vários modelos:\n",
    "\n",
    "![comparação](comparacao_fits.png \"comparação entre fits\")\n",
    "\n",
    "---\n",
    "\n",
    "**Atividade:**\n",
    "\n",
    "Escreva, em suas palavras, uma análise comparativa simples entre os três cenários do gráfico de comparação acima."
   ]
  },
  {
   "cell_type": "markdown",
   "metadata": {},
   "source": [
    "**R:**\n",
    "\n",
    "- Modelo linear sofre underfitting pois todos os modelos tem valores semelhantes e possuem erro grande.\n",
    "- Modelo de grau 3 se ajustam bem aos pontos estando bem próximos ao modelo ideal e tem erro pequeno. \n",
    "- Modelo de grau 8 sofre overfitting pois todos os modelos são bastante diferentes entre si, distantes do ideal e com erro grande no conjunto de teste."
   ]
  },
  {
   "cell_type": "markdown",
   "metadata": {},
   "source": [
    "### *Bias/variance tradeoff*"
   ]
  },
  {
   "cell_type": "markdown",
   "metadata": {},
   "source": [
    "Seja $\\mathbf{D}$ o conjunto de treinamento de nosso modelo, com $m$ amostras de treinamento.\n",
    "\n",
    "Primeiro, observamos o seguinte: para cada possível conjunto de treinamento $\\mathbf{D}$ temos um vetor de parâmetros $\\mathbf{\\theta}_{\\mathbf{D}}$ diferente, e consequentemente um modelo $h_{\\mathbf{\\theta}_{\\mathbf{D}}}(\\mathbf{x})$ diferente. (Vimos isso acima quando obtemos regressores diferentes para conjuntos de treinamento diferentes.)\n",
    "\n",
    "Logo, para um determinado valor de $\\mathbf{x}$, temos que **$h_{\\mathbf{\\theta}_{\\mathbf{D}}}(\\mathbf{x})$ é uma variável aleatória sobre o conjunto de todos os possíveis conjuntos de treinamento $\\mathbf{D}$**.\n",
    "\n",
    "Vamos definir a média e a variância desta variável aleatória (para um dado $\\mathbf{x}$, não se esqueça) como:\n",
    "\n",
    "$$\n",
    "\\mu_{h}(\\mathbf{x}) = E_{\\mathbf{D}}\\left[h_{\\mathbf{\\theta}_{\\mathbf{D}}}(\\mathbf{x})\\right]\n",
    "$$\n",
    "\n",
    "e\n",
    "\n",
    "$$\n",
    "\\sigma_{h}^2(\\mathbf{x}) = E_{\\mathbf{D}}\\left[ \\left(\n",
    "    h_{\\mathbf{\\theta}_{\\mathbf{D}}}(\\mathbf{x}) - \\mu_{h}(\\mathbf{x})\n",
    "\\right)^2 \\right]\n",
    "$$\n",
    "\n",
    "Respire, respire...\n",
    "\n",
    "Agora vamos aos dados: vamos imaginar que nossos dados *observados* são da seguinte forma:\n",
    "\n",
    "$$\n",
    "(\\text{valor observado}) = (\\text{valor real}) + (\\text{ruído e outros erros})\n",
    "$$\n",
    "\n",
    "Dando nomes aos bois, seja $y(\\mathbf{x})$ o valor observado da variável dependente para uma amostra de entrada $\\mathbf{x}$, $t(\\mathbf{x})$ o valor real (true) da variável dependente, e $\\varepsilon$ o ruído, que é uma variável aleatória independente de média zero e variância $\\sigma_{\\varepsilon}^2 = E\\left[ \\varepsilon^2 \\right]$. Então a pseudo-equação acima fica sendo:\n",
    "\n",
    "$$\n",
    "y(\\mathbf{x}) = t(\\mathbf{x}) + \\varepsilon\n",
    "$$\n",
    "\n",
    "Respire, respire...\n",
    "\n",
    "Agora vamos juntar tudo. O erro entre o valor observado e o valor predito é\n",
    "\n",
    "$$\n",
    "y(\\mathbf{x}) - h_{\\mathbf{\\theta}_{\\mathbf{D}}}(\\mathbf{x})\n",
    "$$\n",
    "\n",
    "O erro quadrático é \n",
    "\n",
    "$$\n",
    "\\left(y(\\mathbf{x}) - h_{\\mathbf{\\theta}_{\\mathbf{D}}}(\\mathbf{x})\\right)^2\n",
    "$$\n",
    "\n",
    "e - leia com calma - *o erro médio quadrático sobre todas as amostras possíveis* ***e*** *para um dado conjunto de treinamento* é, portanto:\n",
    "\n",
    "$$\n",
    "\\text{MSE}_{\\mathbf{D}} = E_{\\mathbf{x}}\\left[\\left(y(\\mathbf{x}) - h_{\\mathbf{\\theta}_{\\mathbf{D}}}(\\mathbf{x})\\right)^2\\right]\n",
    "$$\n",
    "\n",
    "Ainda sobrou uma incerteza no processo: o conjunto de treinamento $\\mathbf{D}$. Nossa estimativa final de erro é o *valor esperado do erro quadrático médio $\\text{MSE}_{\\mathbf{D}}$ sobre todos os possíveis conjuntos de treinamento*, ou seja:\n",
    "\n",
    "$$\n",
    "\\text{MSE} = E_{\\mathbf{D}} \\left[ E_{\\mathbf{x}} \\left[ \n",
    "\\left(y(\\mathbf{x}) - h_{\\mathbf{\\theta}_{\\mathbf{D}}}(\\mathbf{x})\\right)^2\n",
    "\\right] \\right]\n",
    "$$\n",
    "\n",
    "Podemos demonstrar que essa expressão pode ser escrita como:\n",
    "\n",
    "$$\n",
    "\\text{MSE} = \n",
    "\\underbrace{E_{\\mathbf{x}} \\left[ \\left( t(\\mathbf{x}) - \\mu_{h}(\\mathbf{x}) \\right)^2 \\right]}_{\\text{bias}}\n",
    "+ \\underbrace{E_{\\mathbf{x}} \\left[ \\sigma_{h}^2(\\mathbf{x}) \\right] }_{\\text{variance}}\n",
    "+ \\underbrace{\\sigma_{\\varepsilon}^2}_{\\text{erro intrínseco}}\n",
    "$$\n",
    "\n",
    "Ufa! Este é um resultado famoso de machine learning, conhecido como \"Bias/Variance tradeoff\". Representa o seguinte: para um regressor qualquer o MSE esperado é composto de três partes:\n",
    "\n",
    "- *Bias* (ou viés): O termo $E_{\\mathbf{x}} \\left[ \\left( t(\\mathbf{x}) - \\mu_{h}(\\mathbf{x}) \\right)^2 \\right]$ é uma componente do erro que independe do conjunto de testes, e que mede a competência intrínseca do modelo. Modelos muito simples (*underfitting*) tem essa componente de viés alta, pois trata-se de um erro sistêmico.\n",
    "\n",
    "- *Variance*: O termo $E_{\\mathbf{x}} \\left[ \\sigma_{h}^2(\\mathbf{x}) \\right]$ representa a volatilidade do modelo em relação ao conjunto de testes usado. Modelos muito complexos (*overfitting*) tem essa componente do erro alta.\n",
    "\n",
    "- Erro intrínseco: Esta componente do erro está relacionada com a qualidade do dado adquirido: quanto mais ruidoso, pior o desempenho ótimo do nosso sistema.\n",
    "\n",
    "O qualificador *trade-off* vem do fato de que quando o *bias* aumenta, cai a *variance*, e vice versa. Existe um ponto de ótimo, contudo."
   ]
  },
  {
   "cell_type": "markdown",
   "metadata": {},
   "source": [
    "--- \n",
    "\n",
    "**Atividade:**\n",
    "\n",
    "Explique, em termos de *bias*, *variance* e erro intrínseco, o comportamento do exemplo do polinômio de grau 3 acima, ou seja, explique a seguinte figura:\n",
    "\n",
    "![comparação](comparacao_fits.png \"comparação entre fits\")\n"
   ]
  },
  {
   "cell_type": "markdown",
   "metadata": {},
   "source": [
    "**R:**\n",
    "\n",
    "- Modelo linear muito simples. Possui um Erros Bias muito alto, pois erra sistematicamente.\n",
    "- Modelo de grau 3 ideal. É o ponto de ótimo possuindo Erro Bias e Erro Variance baixos.\n",
    "- Modelo de grau 8 muito complexo. Possui um Erro Variance muito alto, pois é extremamente volátil.\n",
    "\n",
    "---"
   ]
  },
  {
   "cell_type": "markdown",
   "metadata": {},
   "source": [
    "## Curvas de aprendizado"
   ]
  },
  {
   "cell_type": "markdown",
   "metadata": {},
   "source": [
    "O que quer dizer que um modelo é muito complexo? É um modelo que tem parâmetros de ajuste em excesso *em relação ao volume de dados de teste*. Um modelo tido como complexo para um conjunto pequeno de dados pode ser um modelo muito simples ao se considerar um conjunto maior de dados. Vamos explorar esse conceito em um experimento:"
   ]
  },
  {
   "cell_type": "code",
   "execution_count": 22,
   "metadata": {},
   "outputs": [],
   "source": [
    "from sklearn.metrics import mean_squared_error\n",
    "from sklearn.model_selection import train_test_split\n",
    "\n",
    "def plot_learning_curves(model, X, y, ax1, ax2, step=5):\n",
    "    # Separa 20% para validação.\n",
    "    X_train, X_val, y_train, y_val = train_test_split(X, y, test_size=0.2, random_state=RAND_SEED)\n",
    "    \n",
    "    train_errors, val_errors = [], []\n",
    "    \n",
    "    # Para cada tamanho do conjunto de treinamento...\n",
    "    for m in range(1, len(X_train)):\n",
    "        mean_RMSE_train = 0.0\n",
    "        mean_RMSE_val = 0.0\n",
    "        \n",
    "        count = 0\n",
    "        for i in range(0, len(X_train) - m, step):\n",
    "            # Ajusta modelo com apenas m amostras de treinamento.\n",
    "            model.fit(X_train[i:(i+m)], y_train[i:(i+m)])\n",
    "\n",
    "            # Faz a previsão sobre o conjunto de treinamento (para obter o erro de treinamento)\n",
    "            # e sobre o conjunto de validação.\n",
    "            y_train_predict = model.predict(X_train[i:(i+m)])\n",
    "            y_val_predict = model.predict(X_val)\n",
    "\n",
    "            # Calcula o valor do RMSE\n",
    "            RMSE_train = np.sqrt(mean_squared_error(y_train_predict, y_train[i:(i+m)]))\n",
    "            RMSE_val = np.sqrt(mean_squared_error(y_val_predict, y_val))\n",
    "            \n",
    "            mean_RMSE_train += RMSE_train\n",
    "            mean_RMSE_val += RMSE_val\n",
    "            count += 1\n",
    "\n",
    "        mean_RMSE_train /= count\n",
    "        mean_RMSE_val /= count\n",
    "        \n",
    "        # Armazena ambos os valores de RMSE.\n",
    "        train_errors.append(mean_RMSE_train)\n",
    "        val_errors.append(mean_RMSE_val)\n",
    "\n",
    "    plt.figure(figsize=(8,6))\n",
    "    plt.plot(np.sqrt(train_errors), \"r-\", linewidth=2, label=\"train\")\n",
    "    plt.plot(np.sqrt(val_errors), \"b-\", linewidth=3, label=\"val\")\n",
    "    plt.axis(ax1)\n",
    "    plt.legend(loc=\"upper right\", fontsize=14)\n",
    "    plt.xlabel(\"Training set size\", fontsize=14)\n",
    "    plt.ylabel(\"RMSE\", fontsize=14)\n",
    "\n",
    "    plt.figure(figsize=(8,6))\n",
    "    plt.plot(np.sqrt(train_errors), \"r-\", linewidth=2, label=\"train\")\n",
    "    plt.plot(np.sqrt(val_errors), \"b-\", linewidth=3, label=\"val\")\n",
    "    plt.axis(ax2)\n",
    "    plt.legend(loc=\"upper right\", fontsize=14)\n",
    "    plt.xlabel(\"Training set size\", fontsize=14)\n",
    "    plt.ylabel(\"RMSE\", fontsize=14)\n",
    "    plt.show()"
   ]
  },
  {
   "cell_type": "code",
   "execution_count": 23,
   "metadata": {},
   "outputs": [
    {
     "data": {
      "image/png": "[encoded data removed]",
      "text/plain": [
       "<Figure size 576x432 with 1 Axes>"
      ]
     },
     "metadata": {
      "needs_background": "light"
     },
     "output_type": "display_data"
    },
    {
     "data": {
      "image/png": "[encoded data removed]",
      "text/plain": [
       "<Figure size 576x432 with 1 Axes>"
      ]
     },
     "metadata": {
      "needs_background": "light"
     },
     "output_type": "display_data"
    }
   ],
   "source": [
    "plot_learning_curves(poly_reg_1, X, y, [0, 80, 0, 3], [0, 20, 0, 2], 1)"
   ]
  },
  {
   "cell_type": "code",
   "execution_count": 24,
   "metadata": {},
   "outputs": [
    {
     "data": {
      "image/png": "[encoded data removed]",
      "text/plain": [
       "<Figure size 576x432 with 1 Axes>"
      ]
     },
     "metadata": {
      "needs_background": "light"
     },
     "output_type": "display_data"
    },
    {
     "data": {
      "image/png": "[encoded data removed]",
      "text/plain": [
       "<Figure size 576x432 with 1 Axes>"
      ]
     },
     "metadata": {
      "needs_background": "light"
     },
     "output_type": "display_data"
    }
   ],
   "source": [
    "plot_learning_curves(poly_reg_2, X, y, [0, 80, 0, 1e1], [0, 20, 0, 2], 1)"
   ]
  },
  {
   "cell_type": "code",
   "execution_count": 25,
   "metadata": {},
   "outputs": [
    {
     "data": {
      "image/png": "[encoded data removed]",
      "text/plain": [
       "<Figure size 576x432 with 1 Axes>"
      ]
     },
     "metadata": {
      "needs_background": "light"
     },
     "output_type": "display_data"
    },
    {
     "data": {
      "image/png": "[encoded data removed]",
      "text/plain": [
       "<Figure size 576x432 with 1 Axes>"
      ]
     },
     "metadata": {
      "needs_background": "light"
     },
     "output_type": "display_data"
    }
   ],
   "source": [
    "plot_learning_curves(poly_reg_30, X, y, [0, 80, 0, 4e20], [0, 80, 0, 2], 1)"
   ]
  },
  {
   "cell_type": "code",
   "execution_count": 26,
   "metadata": {},
   "outputs": [
    {
     "data": {
      "image/png": "[encoded data removed]",
      "text/plain": [
       "<Figure size 576x432 with 1 Axes>"
      ]
     },
     "metadata": {
      "needs_background": "light"
     },
     "output_type": "display_data"
    },
    {
     "data": {
      "image/png": "[encoded data removed]",
      "text/plain": [
       "<Figure size 576x432 with 1 Axes>"
      ]
     },
     "metadata": {
      "needs_background": "light"
     },
     "output_type": "display_data"
    }
   ],
   "source": [
    "poly_reg_10 = Pipeline([\n",
    "        (\"poly_features\", PolynomialFeatures(degree=10, include_bias=False)),\n",
    "        (\"std_scaler\", StandardScaler()), \n",
    "        (\"lin_reg\", LinearRegression())\n",
    "    ])\n",
    "\n",
    "plot_learning_curves(poly_reg_10, X, y, [0, 80, 0, 500], [0, 80, 0, 2])"
   ]
  },
  {
   "cell_type": "markdown",
   "metadata": {},
   "source": [
    "Podemos observar quando um ajuste passa de *overfit* para ajuste normal conforme o número de dados de treinamento aumenta!"
   ]
  },
  {
   "cell_type": "markdown",
   "metadata": {},
   "source": [
    "---\n",
    "\n",
    "**Atividade:**\n",
    "\n",
    "Explique:\n",
    "\n",
    "- Porque o erro do modelo ``poly_reg_1`` é maior que o erro do modelo ``poly_reg_2``?\n",
    "\n",
    "- Porque o erro do modelo ``poly_reg_30`` é maior que o erro do modelo ``poly_reg_2``?\n",
    "\n",
    "- Porque na curva RMSE versus tamanho do conjunto de treinamento observamos, para o modelo de grau 10, que o erro de treinamento é zero até que o conjunto de treinamento tenha mais de 10 amostras?\n",
    "\n",
    "- Para as curvas relacionadas a modelos complexos, eventualmente o erro tende a aproximadamente $\\text{RMSE} = 1$ neste problema-exemplo. Explique em termos de *bias*, variância, e erro intrínseco. (Compare com os dados originais.)"
   ]
  },
  {
   "cell_type": "markdown",
   "metadata": {},
   "source": [
    "**R:**\n",
    "- Como o modelo poly_reg_1 tem menos features que o modelo poly_reg_2 assim tem um Bias maior levando a um erro sistemático maior.\n",
    "- O modelo poly_reg_30 tem featurs demais, sofrendo de overfitting, assim tem um Variance muito maior que o poly_reg_2.\n",
    "- Pois a regressão funciona com uma interpolação de polinômio. Tendo 10 features eu consigo ligar 10 pontos com um polinômio sem ter erro algum.\n",
    "- Isso ocorre pois quando se estava criando os dados de treinamento, eles foram criados colocando um ruido de média 0 e desvio padrão de 1. Logo o erro intrínseco será próximo a esse desvio padrão.\n",
    "\n",
    "\n",
    "---"
   ]
  },
  {
   "cell_type": "code",
   "execution_count": null,
   "metadata": {},
   "outputs": [],
   "source": []
  }
 ],
 "metadata": {
  "kernelspec": {
   "display_name": "Python 3",
   "language": "python",
   "name": "python3"
  },
  "language_info": {
   "codemirror_mode": {
    "name": "ipython",
    "version": 3
   },
   "file_extension": ".py",
   "mimetype": "text/x-python",
   "name": "python",
   "nbconvert_exporter": "python",
   "pygments_lexer": "ipython3",
   "version": "3.7.2"
  },
  "toc": {
   "nav_menu": {},
   "number_sections": true,
   "sideBar": true,
   "skip_h1_title": false,
   "toc_cell": false,
   "toc_position": {},
   "toc_section_display": "block",
   "toc_window_display": false
  }
 },
 "nbformat": 4,
 "nbformat_minor": 4
}
