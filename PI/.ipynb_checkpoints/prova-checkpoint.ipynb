{
 "cells": [
  {
   "cell_type": "markdown",
   "metadata": {},
   "source": [
    "## Machine Learning - Prova\n",
    "\n",
    "**Nome do aluno**: <font color='red'>Evandro Fontana Romeiro</font>\n",
    "\n",
    "Esta prova consiste em uma parte conceitual e uma parte prática. Você tem 120 minutos para concluir esta prova: gerencie seu tempo adequadamente!\n",
    "\n",
    "Você deve submeter o trabalho via Blackboard. É de sua responsabilidade garantir que o arquivo correto foi enviado.\n",
    "\n",
    "Se você precisou adicionar arquivos extras à essa prova, assegure-se de que você os está enviando também.\n",
    "\n",
    "A prova é individual e com consulta. Faça o seu trabalho de maneira ética!"
   ]
  },
  {
   "cell_type": "markdown",
   "metadata": {},
   "source": [
    "---\n",
    "## Parte conceitual (4 pts)"
   ]
  },
  {
   "cell_type": "markdown",
   "metadata": {},
   "source": [
    "Vemos abaixo uma seleção de tópicos em Machine Learning e uma seleção de interlocutores. Escolha 2 tópicos, 2 interlocutores, e a associação 1-para-1 entre tópicos e interlocutores. Explique os tópicos escolhidos para os interlocutores correspondentes.\n",
    "\n",
    "Interlocutores:\n",
    "\n",
    "- O Marcos Lisboa\n",
    "    - Economista, conhece muito bem estatística, interessado pelos problemas economicos do Brasil.\n",
    "- Uma criança de 8 anos\n",
    "    - Quase nenhuma noção de matemática, geometria, estatística.\n",
    "- Um entrevistador de emprego de uma empresa renomada (e.g. FAANG)\n",
    "    - É um engenheiro experiente, e sabe bem os conceitos todos, mas quer saber se você sabe explicar de modo coerente, enxuto e completo. Sem encher linguiça.\n",
    "- Um professor de Matemática da Variação\n",
    "    - Domina cálculo multivariado, estatística, programação. Quer conhecer mais a fundo o assunto que você vai explicar, e a conexão com a disciplina dele.\n",
    "- Um professor de GDE\n",
    "    - Entende matemática e estatística de colegial e um pouco de Cálculo. Interessado em problemas da sociedade.\n",
    "- Um médico oncologista\n",
    "    - Conhece estatística surpreendemente bem, interessado em problemas de Medicina.\n",
    "\n",
    "    \n",
    "Tópicos:\n",
    "\n",
    "- Árvore de decisão\n",
    "- Machine Learning e sociedade\n",
    "- Regressão linear\n",
    "- Validação cruzada para ajuste de hiperparâmetros\n",
    "- Support vector machines\n",
    "- Curva ROC\n",
    "- Gradient descent\n",
    "- Sub-ajuste (underfitting) e sobreajuste (overfitting)\n",
    "- Precision versus recall\n",
    "- Seleção de variáveis com Lasso\n",
    "\n",
    "Use gráficos, tabelas, formulas, código, o que você quiser para auxiliar na sua explicação. Use quantas células quiser do notebook. Se precisar adicionar um diagrama ilustrativo, pode usar o https://www.draw.io/. Exporte seu desenho para PNG e inclua no notebook com o código-exemplo desta célula:\n",
    "\n",
    "![exemplo](exemplo.png \"Exemplo de diagrama PNG\")\n",
    "\n",
    "Neste caso, <font color='red'>não se esqueça de submeter também seu arquivo de imagem!</font>\n",
    "\n",
    "Rubrica de avaliação por par conceito-interlocutor:\n",
    "\n",
    "\n",
    "| Conceito | Nota | Definição |\n",
    "|----------|------|-----------|\n",
    "| I        | 0.0  | Não fez, ou escreveu coisas sem sentido. |\n",
    "| D        | 0.5  | Usou termos técnicos e matemática não disponível ao interlocutor. Faltam partes fundamentais do conceito. Não construiu uma narrativa de interesse ao interlocutor. |\n",
    "| C        | 1.0  | Construiu uma explicação correta da mecânica do conceito, sem uma intuição de por que funciona. Faltam ideias importantes, mas não essenciais do conceito. Não construiu uma narrativa de interesse ao interlocutor. |\n",
    "| B        | 1.5  | Construiu uma explicação da mecânica e da intuição por trás do modelo. Faltam ideias importantes, mas não essenciais do conceito, ou tem excesso de ideias não tão centrais à explicação (vulgo “encheu linguiça”). |\n",
    "| A        | 2.0  | Construiu uma explicação bem completa e enxuta da mecânica e da intuição por trás do conceito. Trouxe uma narrativa que interesse ao interlocutor. |\n"
   ]
  },
  {
   "cell_type": "markdown",
   "metadata": {},
   "source": [
    "### Respostas"
   ]
  },
  {
   "cell_type": "markdown",
   "metadata": {},
   "source": [
    "---\n",
    "Tópico: <font color=red>Precision versus recall</font>\n",
    "\n",
    "Interlocutor: <font color=red>Uma criança de 8 anos</font>\n",
    "\n",
    "Resposta:\n",
    "\n",
    "Imagine que você não entende a calegrafia de seu colega e deseja adivinhar que número ele escreveu em seu caderno. Sua vontade é saber se o número escrito por ele é ou não um 5. Existe 4 possíbilidades para sua resposta:\n",
    "- Dizer que é um 5 e acertar\n",
    "- Dizer que é um 5 e errar pois na verdade ele escreveu outro número\n",
    "- Dizer que não é um 5 e acertar\n",
    "- Dizer que não é um 5 e errar pois na verdade ele escreveu 5\n",
    "\n",
    "A tabela abaixo mostra todas as possibilidades com exemplos:\n",
    "![Precision-recall](precision_recall.png \"Precision and recall\")\n",
    "Vejamos a parte de cima da tabela a direita. Seu colega tentou escrever um 8 que ficou meio esquisito, você achou que era um 5 e errou. Já na parte de baixo a esquerda há 5 que estão meio estranhos, você não entendeu que eram realmente 5. Já na diagonal temos todos aqueles que você acertou, dizendo que são 5 ou não.\n",
    "\n",
    "Recall são é a fração entre a quantidade de números 5 que você reconheceu e a quantidade de números 5 que ele escreveu.\n",
    "Já o precision é a fração entre todos aqueles que você acertou ao dizer que eram 5 e todos aqueles que você disse que eram 5 mesmo errado."
   ]
  },
  {
   "cell_type": "markdown",
   "metadata": {},
   "source": [
    "---\n",
    "Tópico: <font color=red>Seleção de variáveis com Lasso</font>\n",
    "\n",
    "Interlocutor: <font color=red>Um professor de Matemática da Variação</font>\n",
    "\n",
    "Resposta: Fazer uma seleção de variavel com Lasso é como tentar otimizar uma função multivariada com uma restrição. Ao realizar um regressão, desejamos criar a curva que melhor se adequa aos pontos que temos possuindo o menor erro possível, porém muitas vezes essa curva se torna um polinomio com um grau muito alto e coeficientes muito altos. O algoritmo Lasso serve para simplificarmos a função dessa curva. Ao restrigir os parametros do polinomio considerando o modulo de theta, criamos uma região de parametros possíveis em formato de diamante(losango centrado na origem), pegando assim os parametros que minimizam o erro dentro dessa região. Muitas vezes esses melhores parametros vão se encontrar na \"quina\" do diamente, ou seja, em cima de algum dos eixos coordenados zerando assim muitos dos parametros de nosso polinomio.\n",
    "\n",
    "![Lasso](Lasso.png \"Lasso\")"
   ]
  },
  {
   "cell_type": "markdown",
   "metadata": {},
   "source": [
    "---\n",
    "## Parte prática (6 pts)\n",
    "\n",
    "O dataset \"Forest Cover type\" é um famoso dataset com cerca de meio milhão de amostras, nas quais o objetivo é prever o tipo de árvores existentes em vários terrenos. Cada linha do dataset corresponde a um pequeno terreno, onde são listadas várias características geológicas e geográficas.\n",
    "\n",
    "Neste problema de prova, filtrei o dataset para selecionar aleatoriamente 20000 linhas, e mantive apenas as amostras dos territórios 1 e 3 do dataset. Eis a descrição das colunas:\n",
    "\n",
    "| #  | Coluna                             | Significado |\n",
    "|--- | ------                             | ----------- |\n",
    "| 0  | Elevation                          | Elevação do terreno (m) |\n",
    "| 1  | Aspect                             | Azimute do terreno (graus) |\n",
    "| 2  | Slope                              | Inclinação do terreno (graus) |\n",
    "| 3  | Horizontal_Distance_To_Hydrology   | Distância horizontal até a característica hidrológica (lagos, rios, etc) mais próxima (m) |\n",
    "| 4  | Vertical_Distance_To_Hydrology     | Distância vertical até a característica hidrológica (lagos, rios, etc) mais próxima (m) |\n",
    "| 5  | Horizontal_Distance_To_Roadways    | Distância horizontal até rodovia mais próxima (m) |\n",
    "| 6  | Hillshade_9am                      | Indice de sombra de encosta às 9h no solstício de verão |\n",
    "| 7  | Hillshade_Noon                     | Indice de sombra de encosta ao meio-dia no solstício de verão |\n",
    "| 8  | Hillshade_3pm                      | Indice de sombra de encosta às 15h no solstício de verão |\n",
    "| 9  | Horizontal_Distance_To_Fire_Points | Distância horizontal até o ponto de queimada mais próximo (m) |\n",
    "| 10 | Cover_Type                         | Tipo de arvores (variável categórica) (esse é o nosso target) |\n",
    "| 11 | soil_type                          | Tipo de solo (variável categórica) |\n",
    "| 12 | Wilderness                         | Região de coleta dos dados (variável categórica) |\n",
    "\n",
    "O arquivo \"covtype_info.txt\" contém mais informação sobre esse dataset, incluindo as definições exatas de tipo de solo, região de coleta de dados, e tipo de árvores."
   ]
  },
  {
   "cell_type": "code",
   "execution_count": 2,
   "metadata": {},
   "outputs": [],
   "source": [
    "%matplotlib inline\n",
    "import pandas as pd\n",
    "import numpy as np\n",
    "import matplotlib.pyplot as plt"
   ]
  },
  {
   "cell_type": "code",
   "execution_count": 3,
   "metadata": {},
   "outputs": [],
   "source": [
    "df = pd.read_csv('dataset.csv')\n",
    "df['Cover_Type'] = df['Cover_Type'].astype('category')\n",
    "df['soil_type'] = df['soil_type'].astype('category')\n",
    "df['Wilderness'] = df['Wilderness'].astype('category')"
   ]
  },
  {
   "cell_type": "code",
   "execution_count": 4,
   "metadata": {},
   "outputs": [
    {
     "name": "stdout",
     "output_type": "stream",
     "text": [
      "<class 'pandas.core.frame.DataFrame'>\n",
      "RangeIndex: 20000 entries, 0 to 19999\n",
      "Data columns (total 13 columns):\n",
      " #   Column                              Non-Null Count  Dtype   \n",
      "---  ------                              --------------  -----   \n",
      " 0   Elevation                           20000 non-null  int64   \n",
      " 1   Aspect                              20000 non-null  int64   \n",
      " 2   Slope                               20000 non-null  int64   \n",
      " 3   Horizontal_Distance_To_Hydrology    20000 non-null  int64   \n",
      " 4   Vertical_Distance_To_Hydrology      20000 non-null  int64   \n",
      " 5   Horizontal_Distance_To_Roadways     20000 non-null  int64   \n",
      " 6   Hillshade_9am                       20000 non-null  int64   \n",
      " 7   Hillshade_Noon                      20000 non-null  int64   \n",
      " 8   Hillshade_3pm                       20000 non-null  int64   \n",
      " 9   Horizontal_Distance_To_Fire_Points  20000 non-null  int64   \n",
      " 10  Cover_Type                          20000 non-null  category\n",
      " 11  soil_type                           20000 non-null  category\n",
      " 12  Wilderness                          20000 non-null  category\n",
      "dtypes: category(3), int64(10)\n",
      "memory usage: 1.6 MB\n"
     ]
    }
   ],
   "source": [
    "df.info()"
   ]
  },
  {
   "cell_type": "code",
   "execution_count": 5,
   "metadata": {},
   "outputs": [
    {
     "data": {
      "text/html": [
       "<div>\n",
       "<style scoped>\n",
       "    .dataframe tbody tr th:only-of-type {\n",
       "        vertical-align: middle;\n",
       "    }\n",
       "\n",
       "    .dataframe tbody tr th {\n",
       "        vertical-align: top;\n",
       "    }\n",
       "\n",
       "    .dataframe thead th {\n",
       "        text-align: right;\n",
       "    }\n",
       "</style>\n",
       "<table border=\"1\" class=\"dataframe\">\n",
       "  <thead>\n",
       "    <tr style=\"text-align: right;\">\n",
       "      <th></th>\n",
       "      <th>count</th>\n",
       "      <th>mean</th>\n",
       "      <th>std</th>\n",
       "      <th>min</th>\n",
       "      <th>25%</th>\n",
       "      <th>50%</th>\n",
       "      <th>75%</th>\n",
       "      <th>max</th>\n",
       "    </tr>\n",
       "  </thead>\n",
       "  <tbody>\n",
       "    <tr>\n",
       "      <th>Elevation</th>\n",
       "      <td>20000.0</td>\n",
       "      <td>2990.01095</td>\n",
       "      <td>222.092373</td>\n",
       "      <td>2286.0</td>\n",
       "      <td>2845.0</td>\n",
       "      <td>3001.0</td>\n",
       "      <td>3155.0</td>\n",
       "      <td>3846.0</td>\n",
       "    </tr>\n",
       "    <tr>\n",
       "      <th>Aspect</th>\n",
       "      <td>20000.0</td>\n",
       "      <td>150.38660</td>\n",
       "      <td>110.280571</td>\n",
       "      <td>0.0</td>\n",
       "      <td>55.0</td>\n",
       "      <td>120.0</td>\n",
       "      <td>246.0</td>\n",
       "      <td>360.0</td>\n",
       "    </tr>\n",
       "    <tr>\n",
       "      <th>Slope</th>\n",
       "      <td>20000.0</td>\n",
       "      <td>13.57140</td>\n",
       "      <td>7.048431</td>\n",
       "      <td>0.0</td>\n",
       "      <td>8.0</td>\n",
       "      <td>13.0</td>\n",
       "      <td>18.0</td>\n",
       "      <td>50.0</td>\n",
       "    </tr>\n",
       "    <tr>\n",
       "      <th>Horizontal_Distance_To_Hydrology</th>\n",
       "      <td>20000.0</td>\n",
       "      <td>274.02080</td>\n",
       "      <td>217.941151</td>\n",
       "      <td>0.0</td>\n",
       "      <td>108.0</td>\n",
       "      <td>228.0</td>\n",
       "      <td>391.0</td>\n",
       "      <td>1371.0</td>\n",
       "    </tr>\n",
       "    <tr>\n",
       "      <th>Vertical_Distance_To_Hydrology</th>\n",
       "      <td>20000.0</td>\n",
       "      <td>45.68340</td>\n",
       "      <td>58.822985</td>\n",
       "      <td>-153.0</td>\n",
       "      <td>6.0</td>\n",
       "      <td>28.0</td>\n",
       "      <td>67.0</td>\n",
       "      <td>595.0</td>\n",
       "    </tr>\n",
       "    <tr>\n",
       "      <th>Horizontal_Distance_To_Roadways</th>\n",
       "      <td>20000.0</td>\n",
       "      <td>2540.88885</td>\n",
       "      <td>1545.080692</td>\n",
       "      <td>0.0</td>\n",
       "      <td>1308.0</td>\n",
       "      <td>2250.0</td>\n",
       "      <td>3548.0</td>\n",
       "      <td>7063.0</td>\n",
       "    </tr>\n",
       "    <tr>\n",
       "      <th>Hillshade_9am</th>\n",
       "      <td>20000.0</td>\n",
       "      <td>213.88320</td>\n",
       "      <td>24.622174</td>\n",
       "      <td>79.0</td>\n",
       "      <td>201.0</td>\n",
       "      <td>219.0</td>\n",
       "      <td>232.0</td>\n",
       "      <td>254.0</td>\n",
       "    </tr>\n",
       "    <tr>\n",
       "      <th>Hillshade_Noon</th>\n",
       "      <td>20000.0</td>\n",
       "      <td>224.01065</td>\n",
       "      <td>18.740213</td>\n",
       "      <td>95.0</td>\n",
       "      <td>213.0</td>\n",
       "      <td>226.0</td>\n",
       "      <td>237.0</td>\n",
       "      <td>254.0</td>\n",
       "    </tr>\n",
       "    <tr>\n",
       "      <th>Hillshade_3pm</th>\n",
       "      <td>20000.0</td>\n",
       "      <td>141.66810</td>\n",
       "      <td>36.566896</td>\n",
       "      <td>0.0</td>\n",
       "      <td>119.0</td>\n",
       "      <td>142.0</td>\n",
       "      <td>166.0</td>\n",
       "      <td>251.0</td>\n",
       "    </tr>\n",
       "    <tr>\n",
       "      <th>Horizontal_Distance_To_Fire_Points</th>\n",
       "      <td>20000.0</td>\n",
       "      <td>2066.96250</td>\n",
       "      <td>1330.040270</td>\n",
       "      <td>0.0</td>\n",
       "      <td>1131.0</td>\n",
       "      <td>1809.0</td>\n",
       "      <td>2609.0</td>\n",
       "      <td>7089.0</td>\n",
       "    </tr>\n",
       "  </tbody>\n",
       "</table>\n",
       "</div>"
      ],
      "text/plain": [
       "                                      count        mean          std     min  \\\n",
       "Elevation                           20000.0  2990.01095   222.092373  2286.0   \n",
       "Aspect                              20000.0   150.38660   110.280571     0.0   \n",
       "Slope                               20000.0    13.57140     7.048431     0.0   \n",
       "Horizontal_Distance_To_Hydrology    20000.0   274.02080   217.941151     0.0   \n",
       "Vertical_Distance_To_Hydrology      20000.0    45.68340    58.822985  -153.0   \n",
       "Horizontal_Distance_To_Roadways     20000.0  2540.88885  1545.080692     0.0   \n",
       "Hillshade_9am                       20000.0   213.88320    24.622174    79.0   \n",
       "Hillshade_Noon                      20000.0   224.01065    18.740213    95.0   \n",
       "Hillshade_3pm                       20000.0   141.66810    36.566896     0.0   \n",
       "Horizontal_Distance_To_Fire_Points  20000.0  2066.96250  1330.040270     0.0   \n",
       "\n",
       "                                       25%     50%     75%     max  \n",
       "Elevation                           2845.0  3001.0  3155.0  3846.0  \n",
       "Aspect                                55.0   120.0   246.0   360.0  \n",
       "Slope                                  8.0    13.0    18.0    50.0  \n",
       "Horizontal_Distance_To_Hydrology     108.0   228.0   391.0  1371.0  \n",
       "Vertical_Distance_To_Hydrology         6.0    28.0    67.0   595.0  \n",
       "Horizontal_Distance_To_Roadways     1308.0  2250.0  3548.0  7063.0  \n",
       "Hillshade_9am                        201.0   219.0   232.0   254.0  \n",
       "Hillshade_Noon                       213.0   226.0   237.0   254.0  \n",
       "Hillshade_3pm                        119.0   142.0   166.0   251.0  \n",
       "Horizontal_Distance_To_Fire_Points  1131.0  1809.0  2609.0  7089.0  "
      ]
     },
     "execution_count": 5,
     "metadata": {},
     "output_type": "execute_result"
    }
   ],
   "source": [
    "df.describe().transpose()"
   ]
  },
  {
   "cell_type": "code",
   "execution_count": 6,
   "metadata": {},
   "outputs": [
    {
     "data": {
      "text/plain": [
       "2    10400\n",
       "1     7618\n",
       "7      710\n",
       "3      583\n",
       "5      370\n",
       "6      319\n",
       "Name: Cover_Type, dtype: int64"
      ]
     },
     "execution_count": 6,
     "metadata": {},
     "output_type": "execute_result"
    }
   ],
   "source": [
    "df['Cover_Type'].value_counts()"
   ]
  },
  {
   "cell_type": "code",
   "execution_count": 7,
   "metadata": {},
   "outputs": [
    {
     "data": {
      "text/html": [
       "<div>\n",
       "<style scoped>\n",
       "    .dataframe tbody tr th:only-of-type {\n",
       "        vertical-align: middle;\n",
       "    }\n",
       "\n",
       "    .dataframe tbody tr th {\n",
       "        vertical-align: top;\n",
       "    }\n",
       "\n",
       "    .dataframe thead th {\n",
       "        text-align: right;\n",
       "    }\n",
       "</style>\n",
       "<table border=\"1\" class=\"dataframe\">\n",
       "  <thead>\n",
       "    <tr style=\"text-align: right;\">\n",
       "      <th></th>\n",
       "      <th>Elevation</th>\n",
       "      <th>Aspect</th>\n",
       "      <th>Slope</th>\n",
       "      <th>Horizontal_Distance_To_Hydrology</th>\n",
       "      <th>Vertical_Distance_To_Hydrology</th>\n",
       "      <th>Horizontal_Distance_To_Roadways</th>\n",
       "      <th>Hillshade_9am</th>\n",
       "      <th>Hillshade_Noon</th>\n",
       "      <th>Hillshade_3pm</th>\n",
       "      <th>Horizontal_Distance_To_Fire_Points</th>\n",
       "      <th>Cover_Type</th>\n",
       "      <th>soil_type</th>\n",
       "      <th>Wilderness</th>\n",
       "    </tr>\n",
       "  </thead>\n",
       "  <tbody>\n",
       "    <tr>\n",
       "      <th>0</th>\n",
       "      <td>2826</td>\n",
       "      <td>330</td>\n",
       "      <td>14</td>\n",
       "      <td>60</td>\n",
       "      <td>10</td>\n",
       "      <td>1549</td>\n",
       "      <td>187</td>\n",
       "      <td>222</td>\n",
       "      <td>175</td>\n",
       "      <td>2563</td>\n",
       "      <td>2</td>\n",
       "      <td>20</td>\n",
       "      <td>3</td>\n",
       "    </tr>\n",
       "    <tr>\n",
       "      <th>1</th>\n",
       "      <td>3283</td>\n",
       "      <td>27</td>\n",
       "      <td>3</td>\n",
       "      <td>0</td>\n",
       "      <td>0</td>\n",
       "      <td>4401</td>\n",
       "      <td>218</td>\n",
       "      <td>232</td>\n",
       "      <td>151</td>\n",
       "      <td>3653</td>\n",
       "      <td>1</td>\n",
       "      <td>23</td>\n",
       "      <td>3</td>\n",
       "    </tr>\n",
       "    <tr>\n",
       "      <th>2</th>\n",
       "      <td>2923</td>\n",
       "      <td>60</td>\n",
       "      <td>12</td>\n",
       "      <td>268</td>\n",
       "      <td>63</td>\n",
       "      <td>3555</td>\n",
       "      <td>229</td>\n",
       "      <td>215</td>\n",
       "      <td>118</td>\n",
       "      <td>5196</td>\n",
       "      <td>2</td>\n",
       "      <td>29</td>\n",
       "      <td>1</td>\n",
       "    </tr>\n",
       "    <tr>\n",
       "      <th>3</th>\n",
       "      <td>3018</td>\n",
       "      <td>57</td>\n",
       "      <td>8</td>\n",
       "      <td>277</td>\n",
       "      <td>47</td>\n",
       "      <td>4391</td>\n",
       "      <td>226</td>\n",
       "      <td>223</td>\n",
       "      <td>132</td>\n",
       "      <td>900</td>\n",
       "      <td>1</td>\n",
       "      <td>19</td>\n",
       "      <td>1</td>\n",
       "    </tr>\n",
       "    <tr>\n",
       "      <th>4</th>\n",
       "      <td>2664</td>\n",
       "      <td>112</td>\n",
       "      <td>5</td>\n",
       "      <td>60</td>\n",
       "      <td>-8</td>\n",
       "      <td>1214</td>\n",
       "      <td>229</td>\n",
       "      <td>234</td>\n",
       "      <td>139</td>\n",
       "      <td>1719</td>\n",
       "      <td>5</td>\n",
       "      <td>20</td>\n",
       "      <td>3</td>\n",
       "    </tr>\n",
       "    <tr>\n",
       "      <th>5</th>\n",
       "      <td>2890</td>\n",
       "      <td>151</td>\n",
       "      <td>15</td>\n",
       "      <td>234</td>\n",
       "      <td>85</td>\n",
       "      <td>2604</td>\n",
       "      <td>238</td>\n",
       "      <td>239</td>\n",
       "      <td>126</td>\n",
       "      <td>1291</td>\n",
       "      <td>2</td>\n",
       "      <td>10</td>\n",
       "      <td>3</td>\n",
       "    </tr>\n",
       "    <tr>\n",
       "      <th>6</th>\n",
       "      <td>3411</td>\n",
       "      <td>200</td>\n",
       "      <td>19</td>\n",
       "      <td>437</td>\n",
       "      <td>76</td>\n",
       "      <td>2882</td>\n",
       "      <td>209</td>\n",
       "      <td>253</td>\n",
       "      <td>171</td>\n",
       "      <td>1613</td>\n",
       "      <td>1</td>\n",
       "      <td>32</td>\n",
       "      <td>3</td>\n",
       "    </tr>\n",
       "    <tr>\n",
       "      <th>7</th>\n",
       "      <td>3321</td>\n",
       "      <td>72</td>\n",
       "      <td>21</td>\n",
       "      <td>67</td>\n",
       "      <td>9</td>\n",
       "      <td>2282</td>\n",
       "      <td>238</td>\n",
       "      <td>196</td>\n",
       "      <td>79</td>\n",
       "      <td>2151</td>\n",
       "      <td>1</td>\n",
       "      <td>22</td>\n",
       "      <td>3</td>\n",
       "    </tr>\n",
       "    <tr>\n",
       "      <th>8</th>\n",
       "      <td>3033</td>\n",
       "      <td>241</td>\n",
       "      <td>19</td>\n",
       "      <td>384</td>\n",
       "      <td>67</td>\n",
       "      <td>1276</td>\n",
       "      <td>181</td>\n",
       "      <td>252</td>\n",
       "      <td>206</td>\n",
       "      <td>577</td>\n",
       "      <td>2</td>\n",
       "      <td>32</td>\n",
       "      <td>3</td>\n",
       "    </tr>\n",
       "    <tr>\n",
       "      <th>9</th>\n",
       "      <td>2710</td>\n",
       "      <td>102</td>\n",
       "      <td>19</td>\n",
       "      <td>255</td>\n",
       "      <td>78</td>\n",
       "      <td>2486</td>\n",
       "      <td>248</td>\n",
       "      <td>212</td>\n",
       "      <td>86</td>\n",
       "      <td>2259</td>\n",
       "      <td>3</td>\n",
       "      <td>10</td>\n",
       "      <td>3</td>\n",
       "    </tr>\n",
       "  </tbody>\n",
       "</table>\n",
       "</div>"
      ],
      "text/plain": [
       "   Elevation  Aspect  Slope  Horizontal_Distance_To_Hydrology  \\\n",
       "0       2826     330     14                                60   \n",
       "1       3283      27      3                                 0   \n",
       "2       2923      60     12                               268   \n",
       "3       3018      57      8                               277   \n",
       "4       2664     112      5                                60   \n",
       "5       2890     151     15                               234   \n",
       "6       3411     200     19                               437   \n",
       "7       3321      72     21                                67   \n",
       "8       3033     241     19                               384   \n",
       "9       2710     102     19                               255   \n",
       "\n",
       "   Vertical_Distance_To_Hydrology  Horizontal_Distance_To_Roadways  \\\n",
       "0                              10                             1549   \n",
       "1                               0                             4401   \n",
       "2                              63                             3555   \n",
       "3                              47                             4391   \n",
       "4                              -8                             1214   \n",
       "5                              85                             2604   \n",
       "6                              76                             2882   \n",
       "7                               9                             2282   \n",
       "8                              67                             1276   \n",
       "9                              78                             2486   \n",
       "\n",
       "   Hillshade_9am  Hillshade_Noon  Hillshade_3pm  \\\n",
       "0            187             222            175   \n",
       "1            218             232            151   \n",
       "2            229             215            118   \n",
       "3            226             223            132   \n",
       "4            229             234            139   \n",
       "5            238             239            126   \n",
       "6            209             253            171   \n",
       "7            238             196             79   \n",
       "8            181             252            206   \n",
       "9            248             212             86   \n",
       "\n",
       "   Horizontal_Distance_To_Fire_Points Cover_Type soil_type Wilderness  \n",
       "0                                2563          2        20          3  \n",
       "1                                3653          1        23          3  \n",
       "2                                5196          2        29          1  \n",
       "3                                 900          1        19          1  \n",
       "4                                1719          5        20          3  \n",
       "5                                1291          2        10          3  \n",
       "6                                1613          1        32          3  \n",
       "7                                2151          1        22          3  \n",
       "8                                 577          2        32          3  \n",
       "9                                2259          3        10          3  "
      ]
     },
     "execution_count": 7,
     "metadata": {},
     "output_type": "execute_result"
    }
   ],
   "source": [
    "df.head(10)"
   ]
  },
  {
   "cell_type": "markdown",
   "metadata": {},
   "source": [
    "O tipo 2 de cobertura corresponde às árvores do tipo \"spruce/fir\". Nossa tarefa é construir um classificador que detecta se um terreno será coberto por esse tipo de árvore ou não.\n",
    "\n",
    "Construa um mini-projeto para este problema. Explore o dataset, construa modelos (pelo menos 2 tipos diferentes) e compare seus desempenhos. NÃO PRECISA FAZER FINE TUNING DE HIPERPARÂMETROS, não vai dar tempo nesta prova.\n",
    "\n",
    "Rubrica:\n",
    "\n",
    "I - Código não roda, ou roda mas é nonsense, e não tem análises que façam sentido.\n",
    "\n",
    "D - A análise não está completa, ou o código está bagunçado, mas pelo menos não é nonsense.\n",
    "\n",
    "C - Análise e conclusões mínimas, mas corretas.\n",
    "\n",
    "B - Análise robusta e não-trivial - descobriu padrões interessantes nos dados, fez alguma engenharia de features interessante.\n",
    "\n",
    "A - Concluída a rubrica B, faça agora uma análise multiclasse. SOMENTE SE JA CONCLUIU NIVEL B."
   ]
  },
  {
   "cell_type": "markdown",
   "metadata": {},
   "source": [
    "#### RESOLUÇÃO"
   ]
  },
  {
   "cell_type": "markdown",
   "metadata": {},
   "source": [
    "Mudando as classificações de vegetação de 1 a 7 para 0 ou 1. Para sabermos se é o não a vegetação desejada."
   ]
  },
  {
   "cell_type": "code",
   "execution_count": 9,
   "metadata": {},
   "outputs": [],
   "source": [
    "df[\"Cover_Type\"] = (df[\"Cover_Type\"] == 2).astype(int)"
   ]
  },
  {
   "cell_type": "markdown",
   "metadata": {},
   "source": [
    "Verificando a correlação entre as colunas"
   ]
  },
  {
   "cell_type": "code",
   "execution_count": 12,
   "metadata": {},
   "outputs": [
    {
     "data": {
      "text/html": [
       "<div>\n",
       "<style scoped>\n",
       "    .dataframe tbody tr th:only-of-type {\n",
       "        vertical-align: middle;\n",
       "    }\n",
       "\n",
       "    .dataframe tbody tr th {\n",
       "        vertical-align: top;\n",
       "    }\n",
       "\n",
       "    .dataframe thead th {\n",
       "        text-align: right;\n",
       "    }\n",
       "</style>\n",
       "<table border=\"1\" class=\"dataframe\">\n",
       "  <thead>\n",
       "    <tr style=\"text-align: right;\">\n",
       "      <th></th>\n",
       "      <th>Elevation</th>\n",
       "      <th>Aspect</th>\n",
       "      <th>Slope</th>\n",
       "      <th>Horizontal_Distance_To_Hydrology</th>\n",
       "      <th>Vertical_Distance_To_Hydrology</th>\n",
       "      <th>Horizontal_Distance_To_Roadways</th>\n",
       "      <th>Hillshade_9am</th>\n",
       "      <th>Hillshade_Noon</th>\n",
       "      <th>Hillshade_3pm</th>\n",
       "      <th>Horizontal_Distance_To_Fire_Points</th>\n",
       "      <th>Cover_Type</th>\n",
       "    </tr>\n",
       "  </thead>\n",
       "  <tbody>\n",
       "    <tr>\n",
       "      <th>Elevation</th>\n",
       "      <td>1.000000</td>\n",
       "      <td>0.073530</td>\n",
       "      <td>-0.109392</td>\n",
       "      <td>0.321268</td>\n",
       "      <td>0.202165</td>\n",
       "      <td>0.350395</td>\n",
       "      <td>-0.012399</td>\n",
       "      <td>0.099999</td>\n",
       "      <td>0.081589</td>\n",
       "      <td>0.000245</td>\n",
       "      <td>-0.348751</td>\n",
       "    </tr>\n",
       "    <tr>\n",
       "      <th>Aspect</th>\n",
       "      <td>0.073530</td>\n",
       "      <td>1.000000</td>\n",
       "      <td>0.064552</td>\n",
       "      <td>0.020186</td>\n",
       "      <td>0.058292</td>\n",
       "      <td>0.069636</td>\n",
       "      <td>-0.569498</td>\n",
       "      <td>0.369247</td>\n",
       "      <td>0.638329</td>\n",
       "      <td>-0.080544</td>\n",
       "      <td>-0.010224</td>\n",
       "    </tr>\n",
       "    <tr>\n",
       "      <th>Slope</th>\n",
       "      <td>-0.109392</td>\n",
       "      <td>0.064552</td>\n",
       "      <td>1.000000</td>\n",
       "      <td>0.019617</td>\n",
       "      <td>0.272968</td>\n",
       "      <td>-0.183036</td>\n",
       "      <td>-0.276011</td>\n",
       "      <td>-0.489682</td>\n",
       "      <td>-0.196832</td>\n",
       "      <td>-0.163552</td>\n",
       "      <td>-0.001825</td>\n",
       "    </tr>\n",
       "    <tr>\n",
       "      <th>Horizontal_Distance_To_Hydrology</th>\n",
       "      <td>0.321268</td>\n",
       "      <td>0.020186</td>\n",
       "      <td>0.019617</td>\n",
       "      <td>1.000000</td>\n",
       "      <td>0.631985</td>\n",
       "      <td>0.075074</td>\n",
       "      <td>-0.055393</td>\n",
       "      <td>0.022529</td>\n",
       "      <td>0.056789</td>\n",
       "      <td>0.044926</td>\n",
       "      <td>0.028795</td>\n",
       "    </tr>\n",
       "    <tr>\n",
       "      <th>Vertical_Distance_To_Hydrology</th>\n",
       "      <td>0.202165</td>\n",
       "      <td>0.058292</td>\n",
       "      <td>0.272968</td>\n",
       "      <td>0.631985</td>\n",
       "      <td>1.000000</td>\n",
       "      <td>-0.021274</td>\n",
       "      <td>-0.156661</td>\n",
       "      <td>-0.105548</td>\n",
       "      <td>0.027983</td>\n",
       "      <td>-0.044956</td>\n",
       "      <td>0.013667</td>\n",
       "    </tr>\n",
       "    <tr>\n",
       "      <th>Horizontal_Distance_To_Roadways</th>\n",
       "      <td>0.350395</td>\n",
       "      <td>0.069636</td>\n",
       "      <td>-0.183036</td>\n",
       "      <td>0.075074</td>\n",
       "      <td>-0.021274</td>\n",
       "      <td>1.000000</td>\n",
       "      <td>-0.028073</td>\n",
       "      <td>0.167132</td>\n",
       "      <td>0.137265</td>\n",
       "      <td>0.307231</td>\n",
       "      <td>-0.027021</td>\n",
       "    </tr>\n",
       "    <tr>\n",
       "      <th>Hillshade_9am</th>\n",
       "      <td>-0.012399</td>\n",
       "      <td>-0.569498</td>\n",
       "      <td>-0.276011</td>\n",
       "      <td>-0.055393</td>\n",
       "      <td>-0.156661</td>\n",
       "      <td>-0.028073</td>\n",
       "      <td>1.000000</td>\n",
       "      <td>-0.048196</td>\n",
       "      <td>-0.791615</td>\n",
       "      <td>0.095699</td>\n",
       "      <td>0.019692</td>\n",
       "    </tr>\n",
       "    <tr>\n",
       "      <th>Hillshade_Noon</th>\n",
       "      <td>0.099999</td>\n",
       "      <td>0.369247</td>\n",
       "      <td>-0.489682</td>\n",
       "      <td>0.022529</td>\n",
       "      <td>-0.105548</td>\n",
       "      <td>0.167132</td>\n",
       "      <td>-0.048196</td>\n",
       "      <td>1.000000</td>\n",
       "      <td>0.622471</td>\n",
       "      <td>0.013411</td>\n",
       "      <td>0.053989</td>\n",
       "    </tr>\n",
       "    <tr>\n",
       "      <th>Hillshade_3pm</th>\n",
       "      <td>0.081589</td>\n",
       "      <td>0.638329</td>\n",
       "      <td>-0.196832</td>\n",
       "      <td>0.056789</td>\n",
       "      <td>0.027983</td>\n",
       "      <td>0.137265</td>\n",
       "      <td>-0.791615</td>\n",
       "      <td>0.622471</td>\n",
       "      <td>1.000000</td>\n",
       "      <td>-0.042454</td>\n",
       "      <td>0.009343</td>\n",
       "    </tr>\n",
       "    <tr>\n",
       "      <th>Horizontal_Distance_To_Fire_Points</th>\n",
       "      <td>0.000245</td>\n",
       "      <td>-0.080544</td>\n",
       "      <td>-0.163552</td>\n",
       "      <td>0.044926</td>\n",
       "      <td>-0.044956</td>\n",
       "      <td>0.307231</td>\n",
       "      <td>0.095699</td>\n",
       "      <td>0.013411</td>\n",
       "      <td>-0.042454</td>\n",
       "      <td>1.000000</td>\n",
       "      <td>0.104015</td>\n",
       "    </tr>\n",
       "    <tr>\n",
       "      <th>Cover_Type</th>\n",
       "      <td>-0.348751</td>\n",
       "      <td>-0.010224</td>\n",
       "      <td>-0.001825</td>\n",
       "      <td>0.028795</td>\n",
       "      <td>0.013667</td>\n",
       "      <td>-0.027021</td>\n",
       "      <td>0.019692</td>\n",
       "      <td>0.053989</td>\n",
       "      <td>0.009343</td>\n",
       "      <td>0.104015</td>\n",
       "      <td>1.000000</td>\n",
       "    </tr>\n",
       "  </tbody>\n",
       "</table>\n",
       "</div>"
      ],
      "text/plain": [
       "                                    Elevation    Aspect     Slope  \\\n",
       "Elevation                            1.000000  0.073530 -0.109392   \n",
       "Aspect                               0.073530  1.000000  0.064552   \n",
       "Slope                               -0.109392  0.064552  1.000000   \n",
       "Horizontal_Distance_To_Hydrology     0.321268  0.020186  0.019617   \n",
       "Vertical_Distance_To_Hydrology       0.202165  0.058292  0.272968   \n",
       "Horizontal_Distance_To_Roadways      0.350395  0.069636 -0.183036   \n",
       "Hillshade_9am                       -0.012399 -0.569498 -0.276011   \n",
       "Hillshade_Noon                       0.099999  0.369247 -0.489682   \n",
       "Hillshade_3pm                        0.081589  0.638329 -0.196832   \n",
       "Horizontal_Distance_To_Fire_Points   0.000245 -0.080544 -0.163552   \n",
       "Cover_Type                          -0.348751 -0.010224 -0.001825   \n",
       "\n",
       "                                    Horizontal_Distance_To_Hydrology  \\\n",
       "Elevation                                                   0.321268   \n",
       "Aspect                                                      0.020186   \n",
       "Slope                                                       0.019617   \n",
       "Horizontal_Distance_To_Hydrology                            1.000000   \n",
       "Vertical_Distance_To_Hydrology                              0.631985   \n",
       "Horizontal_Distance_To_Roadways                             0.075074   \n",
       "Hillshade_9am                                              -0.055393   \n",
       "Hillshade_Noon                                              0.022529   \n",
       "Hillshade_3pm                                               0.056789   \n",
       "Horizontal_Distance_To_Fire_Points                          0.044926   \n",
       "Cover_Type                                                  0.028795   \n",
       "\n",
       "                                    Vertical_Distance_To_Hydrology  \\\n",
       "Elevation                                                 0.202165   \n",
       "Aspect                                                    0.058292   \n",
       "Slope                                                     0.272968   \n",
       "Horizontal_Distance_To_Hydrology                          0.631985   \n",
       "Vertical_Distance_To_Hydrology                            1.000000   \n",
       "Horizontal_Distance_To_Roadways                          -0.021274   \n",
       "Hillshade_9am                                            -0.156661   \n",
       "Hillshade_Noon                                           -0.105548   \n",
       "Hillshade_3pm                                             0.027983   \n",
       "Horizontal_Distance_To_Fire_Points                       -0.044956   \n",
       "Cover_Type                                                0.013667   \n",
       "\n",
       "                                    Horizontal_Distance_To_Roadways  \\\n",
       "Elevation                                                  0.350395   \n",
       "Aspect                                                     0.069636   \n",
       "Slope                                                     -0.183036   \n",
       "Horizontal_Distance_To_Hydrology                           0.075074   \n",
       "Vertical_Distance_To_Hydrology                            -0.021274   \n",
       "Horizontal_Distance_To_Roadways                            1.000000   \n",
       "Hillshade_9am                                             -0.028073   \n",
       "Hillshade_Noon                                             0.167132   \n",
       "Hillshade_3pm                                              0.137265   \n",
       "Horizontal_Distance_To_Fire_Points                         0.307231   \n",
       "Cover_Type                                                -0.027021   \n",
       "\n",
       "                                    Hillshade_9am  Hillshade_Noon  \\\n",
       "Elevation                               -0.012399        0.099999   \n",
       "Aspect                                  -0.569498        0.369247   \n",
       "Slope                                   -0.276011       -0.489682   \n",
       "Horizontal_Distance_To_Hydrology        -0.055393        0.022529   \n",
       "Vertical_Distance_To_Hydrology          -0.156661       -0.105548   \n",
       "Horizontal_Distance_To_Roadways         -0.028073        0.167132   \n",
       "Hillshade_9am                            1.000000       -0.048196   \n",
       "Hillshade_Noon                          -0.048196        1.000000   \n",
       "Hillshade_3pm                           -0.791615        0.622471   \n",
       "Horizontal_Distance_To_Fire_Points       0.095699        0.013411   \n",
       "Cover_Type                               0.019692        0.053989   \n",
       "\n",
       "                                    Hillshade_3pm  \\\n",
       "Elevation                                0.081589   \n",
       "Aspect                                   0.638329   \n",
       "Slope                                   -0.196832   \n",
       "Horizontal_Distance_To_Hydrology         0.056789   \n",
       "Vertical_Distance_To_Hydrology           0.027983   \n",
       "Horizontal_Distance_To_Roadways          0.137265   \n",
       "Hillshade_9am                           -0.791615   \n",
       "Hillshade_Noon                           0.622471   \n",
       "Hillshade_3pm                            1.000000   \n",
       "Horizontal_Distance_To_Fire_Points      -0.042454   \n",
       "Cover_Type                               0.009343   \n",
       "\n",
       "                                    Horizontal_Distance_To_Fire_Points  \\\n",
       "Elevation                                                     0.000245   \n",
       "Aspect                                                       -0.080544   \n",
       "Slope                                                        -0.163552   \n",
       "Horizontal_Distance_To_Hydrology                              0.044926   \n",
       "Vertical_Distance_To_Hydrology                               -0.044956   \n",
       "Horizontal_Distance_To_Roadways                               0.307231   \n",
       "Hillshade_9am                                                 0.095699   \n",
       "Hillshade_Noon                                                0.013411   \n",
       "Hillshade_3pm                                                -0.042454   \n",
       "Horizontal_Distance_To_Fire_Points                            1.000000   \n",
       "Cover_Type                                                    0.104015   \n",
       "\n",
       "                                    Cover_Type  \n",
       "Elevation                            -0.348751  \n",
       "Aspect                               -0.010224  \n",
       "Slope                                -0.001825  \n",
       "Horizontal_Distance_To_Hydrology      0.028795  \n",
       "Vertical_Distance_To_Hydrology        0.013667  \n",
       "Horizontal_Distance_To_Roadways      -0.027021  \n",
       "Hillshade_9am                         0.019692  \n",
       "Hillshade_Noon                        0.053989  \n",
       "Hillshade_3pm                         0.009343  \n",
       "Horizontal_Distance_To_Fire_Points    0.104015  \n",
       "Cover_Type                            1.000000  "
      ]
     },
     "execution_count": 12,
     "metadata": {},
     "output_type": "execute_result"
    }
   ],
   "source": [
    "df.corr()"
   ]
  },
  {
   "cell_type": "markdown",
   "metadata": {},
   "source": [
    "Plotando histogramas de todas as colunas para visualizar os dados"
   ]
  },
  {
   "cell_type": "code",
   "execution_count": 11,
   "metadata": {},
   "outputs": [
    {
     "data": {
      "image/png": "[encoded data removed]",
      "text/plain": [
       "<Figure size 1440x1080 with 12 Axes>"
      ]
     },
     "metadata": {
      "needs_background": "light"
     },
     "output_type": "display_data"
    }
   ],
   "source": [
    "df.hist(bins=50, figsize=(20, 15))\n",
    "plt.show()"
   ]
  },
  {
   "cell_type": "markdown",
   "metadata": {},
   "source": [
    "Não há nenhum tipo de anomalia aparente nos histogramas."
   ]
  },
  {
   "cell_type": "markdown",
   "metadata": {},
   "source": [
    "Verificando se há linhas sem preenchimento"
   ]
  },
  {
   "cell_type": "code",
   "execution_count": 14,
   "metadata": {},
   "outputs": [
    {
     "data": {
      "text/plain": [
       "0"
      ]
     },
     "execution_count": 14,
     "metadata": {},
     "output_type": "execute_result"
    }
   ],
   "source": [
    "sample_incomplete_rows = df[df.isnull().any(axis=1)].head()\n",
    "len(sample_incomplete_rows)"
   ]
  },
  {
   "cell_type": "markdown",
   "metadata": {},
   "source": [
    "Não há linhas incompletas"
   ]
  },
  {
   "cell_type": "markdown",
   "metadata": {},
   "source": [
    "Verificando colunas categoricas"
   ]
  },
  {
   "cell_type": "code",
   "execution_count": 15,
   "metadata": {},
   "outputs": [
    {
     "data": {
      "text/plain": [
       "1    10145\n",
       "3     9855\n",
       "Name: Wilderness, dtype: int64"
      ]
     },
     "execution_count": 15,
     "metadata": {},
     "output_type": "execute_result"
    }
   ],
   "source": [
    "df['Wilderness'].value_counts()"
   ]
  },
  {
   "cell_type": "code",
   "execution_count": 24,
   "metadata": {},
   "outputs": [
    {
     "data": {
      "text/plain": [
       "29    4572\n",
       "23    1895\n",
       "32    1876\n",
       "33    1622\n",
       "12    1166\n",
       "22    1119\n",
       "30    1118\n",
       "31    1001\n",
       "24     735\n",
       "13     656\n",
       "10     593\n",
       "38     518\n",
       "11     490\n",
       "39     482\n",
       "4      418\n",
       "20     379\n",
       "40     280\n",
       "2      204\n",
       "19     121\n",
       "26     106\n",
       "16     102\n",
       "3       94\n",
       "17      84\n",
       "34      64\n",
       "18      58\n",
       "35      48\n",
       "9       45\n",
       "27      39\n",
       "28      36\n",
       "21      32\n",
       "37      15\n",
       "14      10\n",
       "8       10\n",
       "36       7\n",
       "7        5\n",
       "Name: soil_type, dtype: int64"
      ]
     },
     "execution_count": 24,
     "metadata": {},
     "output_type": "execute_result"
    }
   ],
   "source": [
    "df['soil_type'].value_counts()"
   ]
  },
  {
   "cell_type": "code",
   "execution_count": 17,
   "metadata": {},
   "outputs": [
    {
     "data": {
      "text/html": [
       "<div>\n",
       "<style scoped>\n",
       "    .dataframe tbody tr th:only-of-type {\n",
       "        vertical-align: middle;\n",
       "    }\n",
       "\n",
       "    .dataframe tbody tr th {\n",
       "        vertical-align: top;\n",
       "    }\n",
       "\n",
       "    .dataframe thead th {\n",
       "        text-align: right;\n",
       "    }\n",
       "</style>\n",
       "<table border=\"1\" class=\"dataframe\">\n",
       "  <thead>\n",
       "    <tr style=\"text-align: right;\">\n",
       "      <th></th>\n",
       "      <th>Wilderness</th>\n",
       "      <th>soil_type</th>\n",
       "    </tr>\n",
       "  </thead>\n",
       "  <tbody>\n",
       "    <tr>\n",
       "      <th>0</th>\n",
       "      <td>3</td>\n",
       "      <td>20</td>\n",
       "    </tr>\n",
       "    <tr>\n",
       "      <th>1</th>\n",
       "      <td>3</td>\n",
       "      <td>23</td>\n",
       "    </tr>\n",
       "    <tr>\n",
       "      <th>2</th>\n",
       "      <td>1</td>\n",
       "      <td>29</td>\n",
       "    </tr>\n",
       "    <tr>\n",
       "      <th>3</th>\n",
       "      <td>1</td>\n",
       "      <td>19</td>\n",
       "    </tr>\n",
       "    <tr>\n",
       "      <th>4</th>\n",
       "      <td>3</td>\n",
       "      <td>20</td>\n",
       "    </tr>\n",
       "  </tbody>\n",
       "</table>\n",
       "</div>"
      ],
      "text/plain": [
       "  Wilderness soil_type\n",
       "0          3        20\n",
       "1          3        23\n",
       "2          1        29\n",
       "3          1        19\n",
       "4          3        20"
      ]
     },
     "execution_count": 17,
     "metadata": {},
     "output_type": "execute_result"
    }
   ],
   "source": [
    "df_cat = df[['Wilderness','soil_type']]\n",
    "df_cat.head()"
   ]
  },
  {
   "cell_type": "markdown",
   "metadata": {},
   "source": [
    "Abaixo se encontra uma tentativa de transformar as variaveis categoricas para completar o modelo. Não consegui concluir essa etapa."
   ]
  },
  {
   "cell_type": "code",
   "execution_count": 27,
   "metadata": {},
   "outputs": [
    {
     "data": {
      "text/plain": [
       "array([[0., 1., 0., ..., 0., 0., 0.],\n",
       "       [0., 1., 0., ..., 0., 0., 0.],\n",
       "       [1., 0., 0., ..., 0., 0., 0.],\n",
       "       ...,\n",
       "       [1., 0., 0., ..., 0., 0., 0.],\n",
       "       [1., 0., 0., ..., 0., 0., 0.],\n",
       "       [1., 0., 0., ..., 0., 0., 0.]])"
      ]
     },
     "execution_count": 27,
     "metadata": {},
     "output_type": "execute_result"
    }
   ],
   "source": [
    "from sklearn.preprocessing import OneHotEncoder\n",
    "\n",
    "encoder = OneHotEncoder(categories=\"auto\")\n",
    "\n",
    "df_cat_1hot = encoder.fit_transform(df_cat)\n",
    "\n",
    "df_cat_1hot.toarray()"
   ]
  },
  {
   "cell_type": "code",
   "execution_count": 22,
   "metadata": {},
   "outputs": [
    {
     "data": {
      "text/plain": [
       "[array([1, 3], dtype=int64),\n",
       " array([ 2,  3,  4,  7,  8,  9, 10, 11, 12, 13, 14, 16, 17, 18, 19, 20, 21,\n",
       "        22, 23, 24, 26, 27, 28, 29, 30, 31, 32, 33, 34, 35, 36, 37, 38, 39,\n",
       "        40], dtype=int64)]"
      ]
     },
     "execution_count": 22,
     "metadata": {},
     "output_type": "execute_result"
    }
   ],
   "source": [
    "encoder.categories_"
   ]
  },
  {
   "cell_type": "code",
   "execution_count": 33,
   "metadata": {},
   "outputs": [],
   "source": [
    "from sklearn.model_selection import train_test_split\n",
    "\n",
    "train_set, test_set = train_test_split(df, test_size=0.2, random_state=42)"
   ]
  },
  {
   "cell_type": "code",
   "execution_count": 34,
   "metadata": {},
   "outputs": [],
   "source": [
    "X_train = train_set.drop(columns=[\"Cover_Type\"])\n",
    "y_train = train_set[\"Cover_Type\"]"
   ]
  },
  {
   "cell_type": "code",
   "execution_count": 35,
   "metadata": {},
   "outputs": [
    {
     "data": {
      "text/html": [
       "<div>\n",
       "<style scoped>\n",
       "    .dataframe tbody tr th:only-of-type {\n",
       "        vertical-align: middle;\n",
       "    }\n",
       "\n",
       "    .dataframe tbody tr th {\n",
       "        vertical-align: top;\n",
       "    }\n",
       "\n",
       "    .dataframe thead th {\n",
       "        text-align: right;\n",
       "    }\n",
       "</style>\n",
       "<table border=\"1\" class=\"dataframe\">\n",
       "  <thead>\n",
       "    <tr style=\"text-align: right;\">\n",
       "      <th></th>\n",
       "      <th>Elevation</th>\n",
       "      <th>Aspect</th>\n",
       "      <th>Slope</th>\n",
       "      <th>Horizontal_Distance_To_Hydrology</th>\n",
       "      <th>Vertical_Distance_To_Hydrology</th>\n",
       "      <th>Horizontal_Distance_To_Roadways</th>\n",
       "      <th>Hillshade_9am</th>\n",
       "      <th>Hillshade_Noon</th>\n",
       "      <th>Hillshade_3pm</th>\n",
       "      <th>Horizontal_Distance_To_Fire_Points</th>\n",
       "      <th>soil_type</th>\n",
       "      <th>Wilderness</th>\n",
       "    </tr>\n",
       "  </thead>\n",
       "  <tbody>\n",
       "    <tr>\n",
       "      <th>5894</th>\n",
       "      <td>3255</td>\n",
       "      <td>23</td>\n",
       "      <td>23</td>\n",
       "      <td>661</td>\n",
       "      <td>179</td>\n",
       "      <td>560</td>\n",
       "      <td>200</td>\n",
       "      <td>183</td>\n",
       "      <td>111</td>\n",
       "      <td>2017</td>\n",
       "      <td>32</td>\n",
       "      <td>3</td>\n",
       "    </tr>\n",
       "    <tr>\n",
       "      <th>3728</th>\n",
       "      <td>2876</td>\n",
       "      <td>101</td>\n",
       "      <td>19</td>\n",
       "      <td>134</td>\n",
       "      <td>48</td>\n",
       "      <td>175</td>\n",
       "      <td>248</td>\n",
       "      <td>211</td>\n",
       "      <td>83</td>\n",
       "      <td>1332</td>\n",
       "      <td>29</td>\n",
       "      <td>1</td>\n",
       "    </tr>\n",
       "    <tr>\n",
       "      <th>8958</th>\n",
       "      <td>3012</td>\n",
       "      <td>326</td>\n",
       "      <td>14</td>\n",
       "      <td>339</td>\n",
       "      <td>26</td>\n",
       "      <td>458</td>\n",
       "      <td>186</td>\n",
       "      <td>224</td>\n",
       "      <td>178</td>\n",
       "      <td>1440</td>\n",
       "      <td>24</td>\n",
       "      <td>3</td>\n",
       "    </tr>\n",
       "    <tr>\n",
       "      <th>7671</th>\n",
       "      <td>2799</td>\n",
       "      <td>329</td>\n",
       "      <td>21</td>\n",
       "      <td>162</td>\n",
       "      <td>68</td>\n",
       "      <td>3302</td>\n",
       "      <td>164</td>\n",
       "      <td>210</td>\n",
       "      <td>182</td>\n",
       "      <td>1550</td>\n",
       "      <td>29</td>\n",
       "      <td>1</td>\n",
       "    </tr>\n",
       "    <tr>\n",
       "      <th>5999</th>\n",
       "      <td>2499</td>\n",
       "      <td>157</td>\n",
       "      <td>20</td>\n",
       "      <td>90</td>\n",
       "      <td>-4</td>\n",
       "      <td>1338</td>\n",
       "      <td>237</td>\n",
       "      <td>239</td>\n",
       "      <td>122</td>\n",
       "      <td>524</td>\n",
       "      <td>4</td>\n",
       "      <td>3</td>\n",
       "    </tr>\n",
       "  </tbody>\n",
       "</table>\n",
       "</div>"
      ],
      "text/plain": [
       "      Elevation  Aspect  Slope  Horizontal_Distance_To_Hydrology  \\\n",
       "5894       3255      23     23                               661   \n",
       "3728       2876     101     19                               134   \n",
       "8958       3012     326     14                               339   \n",
       "7671       2799     329     21                               162   \n",
       "5999       2499     157     20                                90   \n",
       "\n",
       "      Vertical_Distance_To_Hydrology  Horizontal_Distance_To_Roadways  \\\n",
       "5894                             179                              560   \n",
       "3728                              48                              175   \n",
       "8958                              26                              458   \n",
       "7671                              68                             3302   \n",
       "5999                              -4                             1338   \n",
       "\n",
       "      Hillshade_9am  Hillshade_Noon  Hillshade_3pm  \\\n",
       "5894            200             183            111   \n",
       "3728            248             211             83   \n",
       "8958            186             224            178   \n",
       "7671            164             210            182   \n",
       "5999            237             239            122   \n",
       "\n",
       "      Horizontal_Distance_To_Fire_Points soil_type Wilderness  \n",
       "5894                                2017        32          3  \n",
       "3728                                1332        29          1  \n",
       "8958                                1440        24          3  \n",
       "7671                                1550        29          1  \n",
       "5999                                 524         4          3  "
      ]
     },
     "execution_count": 35,
     "metadata": {},
     "output_type": "execute_result"
    }
   ],
   "source": [
    "X_train.head()"
   ]
  },
  {
   "cell_type": "code",
   "execution_count": 36,
   "metadata": {},
   "outputs": [
    {
     "data": {
      "text/plain": [
       "5894    1\n",
       "3728    0\n",
       "8958    1\n",
       "7671    1\n",
       "5999    0\n",
       "Name: Cover_Type, dtype: int32"
      ]
     },
     "execution_count": 36,
     "metadata": {},
     "output_type": "execute_result"
    }
   ],
   "source": [
    "y_train.head()"
   ]
  },
  {
   "cell_type": "markdown",
   "metadata": {},
   "source": [
    "Tentando realizar a classificação com SGDClassifier"
   ]
  },
  {
   "cell_type": "code",
   "execution_count": 44,
   "metadata": {},
   "outputs": [
    {
     "data": {
      "text/plain": [
       "SGDClassifier(random_state=42, tol=0.0001)"
      ]
     },
     "execution_count": 44,
     "metadata": {},
     "output_type": "execute_result"
    }
   ],
   "source": [
    "from sklearn.linear_model import SGDClassifier\n",
    "\n",
    "sgd_clf = SGDClassifier(max_iter=1000, tol=1e-4, random_state=42)  # Existe aleatoriedade dentro do SGDClassifier.\n",
    "sgd_clf.fit(X_train, y_train)"
   ]
  },
  {
   "cell_type": "code",
   "execution_count": 45,
   "metadata": {},
   "outputs": [
    {
     "data": {
      "text/plain": [
       "array([0.5555 , 0.4855 , 0.57675, 0.5865 ])"
      ]
     },
     "execution_count": 45,
     "metadata": {},
     "output_type": "execute_result"
    }
   ],
   "source": [
    "from sklearn.model_selection import cross_val_score\n",
    "\n",
    "res = cross_val_score(sgd_clf, X_train, y_train, cv=4, scoring=\"accuracy\", n_jobs=-1)\n",
    "res"
   ]
  },
  {
   "cell_type": "markdown",
   "metadata": {},
   "source": [
    "Percebemos que o modelo, treinado com max_iter=1000 e tol= 1e-4, é apenas ligeiramente melhor do que se jogar uma moeda, tendo acurária proxima de 55% "
   ]
  },
  {
   "cell_type": "markdown",
   "metadata": {},
   "source": [
    "Tentando realizar a classificação com SGDClassifier"
   ]
  },
  {
   "cell_type": "code",
   "execution_count": 42,
   "metadata": {},
   "outputs": [
    {
     "data": {
      "text/plain": [
       "DecisionTreeClassifier(max_depth=5, random_state=42)"
      ]
     },
     "execution_count": 42,
     "metadata": {},
     "output_type": "execute_result"
    }
   ],
   "source": [
    "from sklearn.tree import DecisionTreeClassifier\n",
    "\n",
    "tree_clf = DecisionTreeClassifier(max_depth=5, random_state=42)\n",
    "tree_clf.fit(X_train, y_train)"
   ]
  },
  {
   "cell_type": "code",
   "execution_count": 43,
   "metadata": {},
   "outputs": [
    {
     "data": {
      "text/plain": [
       "array([0.7475 , 0.7635 , 0.74825, 0.75275])"
      ]
     },
     "execution_count": 43,
     "metadata": {},
     "output_type": "execute_result"
    }
   ],
   "source": [
    "res = cross_val_score(tree_clf, X_train, y_train, cv=4, scoring=\"accuracy\", n_jobs=-1)\n",
    "res"
   ]
  },
  {
   "cell_type": "markdown",
   "metadata": {},
   "source": [
    "Já o DecisionTreeClassifier possuiu um resultado melhor acertando em aproximandamente 3/4 dos casos."
   ]
  },
  {
   "cell_type": "markdown",
   "metadata": {},
   "source": [
    "Aplicando modelo treinado no conjunto de testes e verificando acurácia."
   ]
  },
  {
   "cell_type": "code",
   "execution_count": 47,
   "metadata": {},
   "outputs": [
    {
     "data": {
      "text/plain": [
       "0.73825"
      ]
     },
     "execution_count": 47,
     "metadata": {},
     "output_type": "execute_result"
    }
   ],
   "source": [
    "from sklearn.metrics import accuracy_score\n",
    "\n",
    "tree_clf = DecisionTreeClassifier(max_depth=5, random_state=42)\n",
    "tree_clf.fit(X_train, y_train)\n",
    "\n",
    "X_test = test_set.drop(columns=[\"Cover_Type\"])\n",
    "y_test = test_set[\"Cover_Type\"]\n",
    "\n",
    "y_pred = tree_clf.predict(X_test)\n",
    "\n",
    "accuracy_score(y_test, y_pred, normalize=True, sample_weight=None)"
   ]
  },
  {
   "cell_type": "code",
   "execution_count": null,
   "metadata": {},
   "outputs": [],
   "source": []
  }
 ],
 "metadata": {
  "kernelspec": {
   "display_name": "Python 3",
   "language": "python",
   "name": "python3"
  },
  "language_info": {
   "codemirror_mode": {
    "name": "ipython",
    "version": 3
   },
   "file_extension": ".py",
   "mimetype": "text/x-python",
   "name": "python",
   "nbconvert_exporter": "python",
   "pygments_lexer": "ipython3",
   "version": "3.7.2"
  }
 },
 "nbformat": 4,
 "nbformat_minor": 4
}
