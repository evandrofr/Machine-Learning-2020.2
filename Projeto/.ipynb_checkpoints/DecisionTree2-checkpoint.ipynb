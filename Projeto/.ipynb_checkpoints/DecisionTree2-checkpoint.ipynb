{
 "cells": [
  {
   "cell_type": "code",
   "execution_count": 1,
   "metadata": {},
   "outputs": [
    {
     "data": {
      "text/plain": [
       "Index(['sepal length (cm)', 'sepal width (cm)', 'petal length (cm)',\n",
       "       'petal width (cm)', 'y'],\n",
       "      dtype='object')"
      ]
     },
     "execution_count": 1,
     "metadata": {},
     "output_type": "execute_result"
    }
   ],
   "source": [
    "import pandas as pd\n",
    "from sklearn.datasets import load_iris\n",
    "import numpy as np\n",
    "from sklearn.model_selection import train_test_split\n",
    "\n",
    "iris = load_iris()\n",
    "X = pd.DataFrame(iris['data'], columns=iris['feature_names'])\n",
    "y = pd.Series(iris['target'], name='class')\n",
    "X[\"y\"] = y\n",
    "X.columns"
   ]
  },
  {
   "cell_type": "code",
   "execution_count": 2,
   "metadata": {},
   "outputs": [
    {
     "name": "stderr",
     "output_type": "stream",
     "text": [
      "<ipython-input-2-0ea5186d8679>:2: SettingWithCopyWarning: \n",
      "A value is trying to be set on a copy of a slice from a DataFrame.\n",
      "Try using .loc[row_indexer,col_indexer] = value instead\n",
      "\n",
      "See the caveats in the documentation: https://pandas.pydata.org/pandas-docs/stable/user_guide/indexing.html#returning-a-view-versus-a-copy\n",
      "  X_train[\"y\"] = y_train\n"
     ]
    }
   ],
   "source": [
    "X_train, X_test, y_train, y_test = train_test_split(X, y, test_size=0.33, random_state=42)\n",
    "X_train[\"y\"] = y_train"
   ]
  },
  {
   "cell_type": "code",
   "execution_count": 3,
   "metadata": {},
   "outputs": [
    {
     "name": "stdout",
     "output_type": "stream",
     "text": [
      "Index(['sepal length (cm)', 'sepal width (cm)', 'petal length (cm)',\n",
      "       'petal width (cm)', 'y'],\n",
      "      dtype='object')\n",
      "\n",
      "Separando os grupos com base na coluna sepal length (0) no valor 4,5.\n"
     ]
    },
    {
     "data": {
      "text/plain": [
       "[array([4.4, 2.9, 1.4, 0.2, 0. ]),\n",
       " array([4.3, 3. , 1.1, 0.1, 0. ]),\n",
       " array([4.4, 3. , 1.3, 0.2, 0. ])]"
      ]
     },
     "execution_count": 3,
     "metadata": {},
     "output_type": "execute_result"
    }
   ],
   "source": [
    "def separa_grupos(coluna, valor_corte, grupo):\n",
    "    R, L = [], []\n",
    "    idx = 0\n",
    "    while idx < len(grupo):\n",
    "        amostra = grupo[idx]\n",
    "        if amostra[coluna].item() < valor_corte:\n",
    "            L.append(amostra)\n",
    "        else:\n",
    "            R.append(amostra)\n",
    "        idx += 1\n",
    "    return L,R\n",
    "print(X.columns)\n",
    "print(\"\\nSeparando os grupos com base na coluna sepal length (0) no valor 4,5.\")\n",
    "L, R = separa_grupos(0, 4.5, np.array(X_train))\n",
    "L"
   ]
  },
  {
   "cell_type": "code",
   "execution_count": 4,
   "metadata": {},
   "outputs": [
    {
     "data": {
      "text/plain": [
       "{0.0: 50, 1.0: 50, 2.0: 50}"
      ]
     },
     "execution_count": 4,
     "metadata": {},
     "output_type": "execute_result"
    }
   ],
   "source": [
    "def conta_valores(grupo):\n",
    "    dic = {}\n",
    "    apareceu = []\n",
    "    for amostra in grupo:\n",
    "        if amostra[-1] not in apareceu:\n",
    "            dic[amostra[-1]] = 1\n",
    "            apareceu.append(amostra[-1])\n",
    "        else:\n",
    "            dic[amostra[-1]] += 1\n",
    "    return dic\n",
    "\n",
    "conta_valores(np.array(X))"
   ]
  },
  {
   "cell_type": "code",
   "execution_count": 5,
   "metadata": {},
   "outputs": [
    {
     "name": "stdout",
     "output_type": "stream",
     "text": [
      "Gini do X_train: 0.6658000000000001\n",
      "Gini da partição: 0.0\n"
     ]
    }
   ],
   "source": [
    "def calcula_gini(grupo):\n",
    "    dic_gini = conta_valores(grupo)\n",
    "\n",
    "    gini = 1\n",
    "    for v in dic_gini.values():\n",
    "        gini -= (v/sum(dic_gini.values()))**2\n",
    "    return gini\n",
    "\n",
    "gini_dataset = calcula_gini(np.array(X_train))\n",
    "print(\"Gini do X_train:\", gini_dataset)\n",
    "L, R = separa_grupos(0, 4.5, np.array(X_train))\n",
    "gini_L = calcula_gini(np.array(L))\n",
    "print(\"Gini da partição:\", gini_L)"
   ]
  },
  {
   "cell_type": "code",
   "execution_count": 6,
   "metadata": {},
   "outputs": [
    {
     "name": "stdout",
     "output_type": "stream",
     "text": [
      "Ganho para partição de sepal length (cm) no valor 4,5: 0.02208865979381458\n",
      "Ganho para partição de sepal length (cm) no valor 5: 0.07310897009966788\n",
      "Ganho para partição de sepal length (cm) no valor 5,5: 0.211876388888889\n"
     ]
    }
   ],
   "source": [
    "def acha_ganho(L, R, incerteza_atual):\n",
    "    p = float(len(L)) / (len(L) + len(R))\n",
    "    return incerteza_atual - p * calcula_gini(L) - (1 - p) * calcula_gini(R)\n",
    "\n",
    "L, R = separa_grupos(0, 4.5, np.array(X_train))\n",
    "print(\"Ganho para partição de sepal length (cm) no valor 4,5: {}\".format(acha_ganho(L, R, gini_dataset))) \n",
    "L, R = separa_grupos(0, 5, np.array(X_train))\n",
    "print(\"Ganho para partição de sepal length (cm) no valor 5: {}\".format(acha_ganho(L, R, gini_dataset))) \n",
    "L, R = separa_grupos(0, 5.5, np.array(X_train))\n",
    "print(\"Ganho para partição de sepal length (cm) no valor 5,5: {}\".format(acha_ganho(L, R, gini_dataset)))"
   ]
  },
  {
   "cell_type": "code",
   "execution_count": 7,
   "metadata": {},
   "outputs": [
    {
     "name": "stdout",
     "output_type": "stream",
     "text": [
      "Melhor ganho: 0.320872463768116, Melhor coluna para particionar 3 e melhor valor para particionar 1.0\n",
      "Ganho para partição de petal width (cm) no valor 1: 0.320872463768116\n",
      "Ganho para partição de petal width (cm) no valor 1.5: 0.2267852216748768\n",
      "Ganho para partição de petal width (cm) no valor 0.5: 0.29171549295774657\n"
     ]
    }
   ],
   "source": [
    "def acha_melhor_corte(grupo):\n",
    "            melhor_ganho = 0\n",
    "            melhor_col = None\n",
    "            melhor_val = None\n",
    "            incerteza_atual = calcula_gini(grupo)\n",
    "            n_features = len(grupo[0]) - 1\n",
    "\n",
    "            for col in range(n_features):\n",
    "\n",
    "                valores = set([linha[col] for linha in grupo])\n",
    "\n",
    "                for val in valores:\n",
    "\n",
    "                    l, r = separa_grupos(col,val,grupo)\n",
    "\n",
    "                    if len(l) == 0 or len(r) == 0:\n",
    "                        continue\n",
    "\n",
    "                    ganho = acha_ganho(l, r, incerteza_atual)\n",
    "\n",
    "                    if ganho >= melhor_ganho:\n",
    "                        melhor_ganho, melhor_col, melhor_val = ganho, col, val\n",
    "\n",
    "            return melhor_ganho, melhor_col, melhor_val\n",
    "\n",
    "m_g, m_c, m_v = acha_melhor_corte(np.array(X_train))\n",
    "print(\"Melhor ganho: {0}, Melhor coluna para particionar {1} e melhor valor para particionar {2}\".format(m_g,m_c,m_v))\n",
    "Left, Right = separa_grupos(3, 1.0, np.array(X_train))\n",
    "print(\"Ganho para partição de petal width (cm) no valor 1: {}\".format(acha_ganho(Left, Right, gini_dataset)))\n",
    "Left, Right = separa_grupos(3, 1.5, np.array(X_train))\n",
    "print(\"Ganho para partição de petal width (cm) no valor 1.5: {}\".format(acha_ganho(Left, Right, gini_dataset)))\n",
    "Left, Right = separa_grupos(3, 0.5, np.array(X_train))\n",
    "print(\"Ganho para partição de petal width (cm) no valor 0.5: {}\".format(acha_ganho(Left, Right, gini_dataset))) "
   ]
  },
  {
   "cell_type": "code",
   "execution_count": 8,
   "metadata": {},
   "outputs": [],
   "source": [
    "class Folha:\n",
    "    def __init__(self, grupo):\n",
    "        self.predicoes = conta_valores(grupo)\n",
    "        \n",
    "class No:\n",
    "    def __init__(self, coluna, valor, right, left):\n",
    "        self.coluna = coluna\n",
    "        self.valor  = valor\n",
    "        self.right  = right\n",
    "        self.left   = left"
   ]
  },
  {
   "cell_type": "code",
   "execution_count": 9,
   "metadata": {},
   "outputs": [
    {
     "name": "stdout",
     "output_type": "stream",
     "text": [
      "3 1.0\n",
      "--> Right:\n",
      "  3 1.8\n",
      "  --> Right:\n",
      "    2 4.9\n",
      "    --> Right:\n",
      "      Predict {2.0: 28}\n",
      "    --> Left:\n",
      "      1 3.2\n",
      "      --> Right:\n",
      "        Predict {1.0: 1}\n",
      "      --> Left:\n",
      "        Predict {2.0: 2}\n",
      "  --> Left:\n",
      "    2 5.6\n",
      "    --> Right:\n",
      "      Predict {2.0: 2}\n",
      "    --> Left:\n",
      "      0 5.0\n",
      "      --> Right:\n",
      "        1 2.3\n",
      "        --> Right:\n",
      "          Predict {1.0: 31}\n",
      "        --> Left:\n",
      "          3 1.5\n",
      "          --> Right:\n",
      "            Predict {2.0: 1}\n",
      "          --> Left:\n",
      "            Predict {1.0: 2}\n",
      "      --> Left:\n",
      "        3 1.7\n",
      "        --> Right:\n",
      "          Predict {2.0: 1}\n",
      "        --> Left:\n",
      "          Predict {1.0: 1}\n",
      "--> Left:\n",
      "  Predict {0.0: 31}\n"
     ]
    }
   ],
   "source": [
    "def construir_arvore(grupo):\n",
    "    ganho, coluna, valor = acha_melhor_corte(grupo)\n",
    "\n",
    "    if ganho == 0:\n",
    "        return Folha(grupo)\n",
    "\n",
    "    left, right  = separa_grupos(coluna, valor, grupo)\n",
    "\n",
    "    right_branch = construir_arvore(right)\n",
    "    left_branch = construir_arvore(left)\n",
    "\n",
    "    return No(coluna, valor, right_branch, left_branch)\n",
    "\n",
    "\n",
    "def desenha_arvore(no, espaco=\"\"):\n",
    "    if isinstance(no, Folha):\n",
    "        print (espaco + \"Predict\", no.predicoes)\n",
    "        return\n",
    "\n",
    "    print (espaco + str(no.coluna) + \" \" + str(no.valor))\n",
    "\n",
    "    print (espaco + '--> Right:')\n",
    "    desenha_arvore(no.right, espaco + \"  \")\n",
    "\n",
    "    print (espaco + '--> Left:')\n",
    "    desenha_arvore(no.left, espaco + \"  \")\n",
    "\n",
    "arvore = construir_arvore(np.array(X_train))\n",
    "desenha_arvore(arvore)"
   ]
  },
  {
   "cell_type": "code",
   "execution_count": 10,
   "metadata": {},
   "outputs": [
    {
     "name": "stdout",
     "output_type": "stream",
     "text": [
      "{1.0: 31}\n",
      "[6.  2.7 5.1 1.6 1. ]\n"
     ]
    }
   ],
   "source": [
    "def preditor(no, amostra):\n",
    "\n",
    "    if isinstance(no, Folha):\n",
    "        return no.predicoes\n",
    "\n",
    "    if amostra[no.coluna] >= no.valor:\n",
    "        return preditor(no.right ,amostra)\n",
    "    else:\n",
    "        return preditor(no.left, amostra)\n",
    "\n",
    "p = preditor(arvore, np.array(X_train)[42])\n",
    "print(p)\n",
    "print(np.array(X_train)[42])"
   ]
  },
  {
   "cell_type": "code",
   "execution_count": 11,
   "metadata": {},
   "outputs": [
    {
     "data": {
      "text/plain": [
       "{1.0: '100%'}"
      ]
     },
     "execution_count": 11,
     "metadata": {},
     "output_type": "execute_result"
    }
   ],
   "source": [
    "def desenha_folha(predicao):\n",
    "    total = sum(predicao.values()) * 1.0\n",
    "    probs = {}\n",
    "    for lbl in predicao.keys():\n",
    "        probs[lbl] = str(int(predicao[lbl] / total * 100)) + \"%\"\n",
    "    return probs\n",
    "desenha_folha(p)"
   ]
  },
  {
   "cell_type": "code",
   "execution_count": 12,
   "metadata": {},
   "outputs": [
    {
     "name": "stdout",
     "output_type": "stream",
     "text": [
      "Real: 1.0 Predito: {1.0: '100%'}\n",
      "Real: 0.0 Predito: {0.0: '100%'}\n",
      "Real: 2.0 Predito: {2.0: '100%'}\n",
      "Real: 1.0 Predito: {1.0: '100%'}\n",
      "Real: 1.0 Predito: {1.0: '100%'}\n",
      "Real: 0.0 Predito: {0.0: '100%'}\n",
      "Real: 1.0 Predito: {1.0: '100%'}\n",
      "Real: 2.0 Predito: {2.0: '100%'}\n",
      "Real: 1.0 Predito: {2.0: '100%'}\n",
      "Real: 1.0 Predito: {1.0: '100%'}\n",
      "Real: 2.0 Predito: {2.0: '100%'}\n",
      "Real: 0.0 Predito: {0.0: '100%'}\n",
      "Real: 0.0 Predito: {0.0: '100%'}\n",
      "Real: 0.0 Predito: {0.0: '100%'}\n",
      "Real: 0.0 Predito: {0.0: '100%'}\n",
      "Real: 1.0 Predito: {1.0: '100%'}\n",
      "Real: 2.0 Predito: {2.0: '100%'}\n",
      "Real: 1.0 Predito: {1.0: '100%'}\n",
      "Real: 1.0 Predito: {1.0: '100%'}\n",
      "Real: 2.0 Predito: {2.0: '100%'}\n",
      "Real: 0.0 Predito: {0.0: '100%'}\n",
      "Real: 2.0 Predito: {2.0: '100%'}\n",
      "Real: 0.0 Predito: {0.0: '100%'}\n",
      "Real: 2.0 Predito: {2.0: '100%'}\n",
      "Real: 2.0 Predito: {2.0: '100%'}\n",
      "Real: 2.0 Predito: {2.0: '100%'}\n",
      "Real: 2.0 Predito: {2.0: '100%'}\n",
      "Real: 2.0 Predito: {2.0: '100%'}\n",
      "Real: 0.0 Predito: {0.0: '100%'}\n",
      "Real: 0.0 Predito: {0.0: '100%'}\n",
      "Real: 0.0 Predito: {0.0: '100%'}\n",
      "Real: 0.0 Predito: {0.0: '100%'}\n",
      "Real: 1.0 Predito: {1.0: '100%'}\n",
      "Real: 0.0 Predito: {0.0: '100%'}\n",
      "Real: 0.0 Predito: {0.0: '100%'}\n",
      "Real: 2.0 Predito: {2.0: '100%'}\n",
      "Real: 1.0 Predito: {1.0: '100%'}\n",
      "Real: 0.0 Predito: {0.0: '100%'}\n",
      "Real: 0.0 Predito: {0.0: '100%'}\n",
      "Real: 0.0 Predito: {0.0: '100%'}\n",
      "Real: 2.0 Predito: {2.0: '100%'}\n",
      "Real: 1.0 Predito: {1.0: '100%'}\n",
      "Real: 1.0 Predito: {1.0: '100%'}\n",
      "Real: 0.0 Predito: {0.0: '100%'}\n",
      "Real: 0.0 Predito: {0.0: '100%'}\n",
      "Real: 1.0 Predito: {1.0: '100%'}\n",
      "Real: 2.0 Predito: {1.0: '100%'}\n",
      "Real: 2.0 Predito: {2.0: '100%'}\n",
      "Real: 1.0 Predito: {1.0: '100%'}\n",
      "Real: 2.0 Predito: {2.0: '100%'}\n"
     ]
    },
    {
     "name": "stderr",
     "output_type": "stream",
     "text": [
      "<ipython-input-12-32d2de6d6979>:1: SettingWithCopyWarning: \n",
      "A value is trying to be set on a copy of a slice from a DataFrame.\n",
      "Try using .loc[row_indexer,col_indexer] = value instead\n",
      "\n",
      "See the caveats in the documentation: https://pandas.pydata.org/pandas-docs/stable/user_guide/indexing.html#returning-a-view-versus-a-copy\n",
      "  X_test[\"y\"] = y_test\n"
     ]
    }
   ],
   "source": [
    "X_test[\"y\"] = y_test\n",
    "for amostra in np.array(X_test):\n",
    "    print (\"Real: {} Predito: {}\".format(amostra[-1], desenha_folha(preditor(arvore, amostra))))"
   ]
  }
 ],
 "metadata": {
  "kernelspec": {
   "display_name": "Python 3",
   "language": "python",
   "name": "python3"
  },
  "language_info": {
   "codemirror_mode": {
    "name": "ipython",
    "version": 3
   },
   "file_extension": ".py",
   "mimetype": "text/x-python",
   "name": "python",
   "nbconvert_exporter": "python",
   "pygments_lexer": "ipython3",
   "version": "3.8.6"
  }
 },
 "nbformat": 4,
 "nbformat_minor": 4
}
